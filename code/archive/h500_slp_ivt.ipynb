{
 "cells": [
  {
   "cell_type": "code",
   "execution_count": 1,
   "metadata": {},
   "outputs": [],
   "source": [
    "from minisom import MiniSom\n",
    "import pandas as pd\n",
    "import numpy as np\n",
    "from collections import defaultdict\n",
    "import pickle\n",
    "import matplotlib.pyplot as plt\n",
    "%matplotlib inline"
   ]
  },
  {
   "cell_type": "code",
   "execution_count": 2,
   "metadata": {},
   "outputs": [],
   "source": [
    "data_path = '/net/fs04/d2/xgao/SOM'"
   ]
  },
  {
   "cell_type": "code",
   "execution_count": 3,
   "metadata": {},
   "outputs": [],
   "source": [
    "def get_var(var, prod):\n",
    "    df = pd.read_csv(data_path+'/'+prod+'/'+prod+'_daily_8019_SCUS_JFMAMOND_'+var+'_anom.txt', header = None, delim_whitespace=True)\n",
    "    return df"
   ]
  },
  {
   "cell_type": "code",
   "execution_count": 4,
   "metadata": {},
   "outputs": [],
   "source": [
    "def concat_df(df_list):\n",
    "    comb_df = pd.concat(df_list, axis = 1)\n",
    "    comb = comb_df.values\n",
    "    return comb"
   ]
  },
  {
   "cell_type": "code",
   "execution_count": 5,
   "metadata": {},
   "outputs": [],
   "source": [
    "som_shape = (3, 4)"
   ]
  },
  {
   "cell_type": "code",
   "execution_count": 6,
   "metadata": {},
   "outputs": [
    {
     "name": "stdout",
     "output_type": "stream",
     "text": [
      " [ 5000 / 5000 ] 100% - 0:00:00 left \n",
      " quantization error: 53.021819634262\n"
     ]
    }
   ],
   "source": [
    "h500_ERA5_df = get_var('h500','ERA5')\n",
    "slp_ERA5_df = get_var('slp','ERA5')\n",
    "ivt_ERA5_df = get_var('ivt','ERA5')\n",
    "\n",
    "ERA5 = concat_df([h500_ERA5_df, slp_ERA5_df, ivt_ERA5_df])\n",
    "data_ERA5 = np.copy(ERA5)\n",
    "np.random.seed(10)\n",
    "np.random.shuffle(data_ERA5)\n",
    "\n",
    "som_ERA5 = MiniSom(som_shape[0], som_shape[1], data_ERA5.shape[1], sigma=.5, learning_rate=.5,\n",
    "              neighborhood_function='gaussian', random_seed=10)\n",
    "som_ERA5.train_random(data_ERA5, 5000, verbose=True)"
   ]
  },
  {
   "cell_type": "code",
   "execution_count": 9,
   "metadata": {},
   "outputs": [
    {
     "data": {
      "text/plain": [
       "<matplotlib.colorbar.Colorbar at 0x7fa196789490>"
      ]
     },
     "execution_count": 9,
     "metadata": {},
     "output_type": "execute_result"
    },
    {
     "data": {
      "image/png": "[encoded data removed]",
      "text/plain": [
       "<Figure size 216x288 with 2 Axes>"
      ]
     },
     "metadata": {
      "needs_background": "light"
     },
     "output_type": "display_data"
    }
   ],
   "source": [
    "plt.figure(figsize=(3, 4))\n",
    "\n",
    "plt.pcolor(som_ERA5.distance_map().T, cmap='bone_r')  # plotting the distance map as background\n",
    "plt.colorbar()"
   ]
  },
  {
   "cell_type": "code",
   "execution_count": 8,
   "metadata": {},
   "outputs": [],
   "source": [
    "return_indices = True\n",
    "winmap_ERA5 = defaultdict(list)\n",
    "for i, x in enumerate(ERA5):\n",
    "    winmap_ERA5[som_ERA5.winner(x)].append(i+1 if return_indices else x)"
   ]
  },
  {
   "cell_type": "code",
   "execution_count": 11,
   "metadata": {},
   "outputs": [
    {
     "name": "stdout",
     "output_type": "stream",
     "text": [
      " [ 5000 / 5000 ] 100% - 0:00:00 left \n",
      " quantization error: 53.335530150082846\n"
     ]
    }
   ],
   "source": [
    "# MERRA2\n",
    "h500_MERRA2_df = get_var('h500','MERRA2')\n",
    "slp_MERRA2_df = get_var('slp','MERRA2')\n",
    "ivt_MERRA2_df = get_var('ivt','MERRA2')\n",
    "\n",
    "MERRA2 = concat_df([h500_MERRA2_df, slp_MERRA2_df, ivt_MERRA2_df])\n",
    "data_MERRA2 = np.copy(MERRA2)\n",
    "np.random.seed(10)\n",
    "np.random.shuffle(data_MERRA2)\n",
    "\n",
    "som_MERRA2 = MiniSom(som_shape[0], som_shape[1], data_MERRA2.shape[1], sigma=.5, learning_rate=.5,\n",
    "              neighborhood_function='gaussian', random_seed=10)\n",
    "som_MERRA2.train_random(data_MERRA2, 5000, verbose=True)"
   ]
  },
  {
   "cell_type": "code",
   "execution_count": 12,
   "metadata": {},
   "outputs": [],
   "source": [
    "return_indices = True\n",
    "winmap_MERRA2 = defaultdict(list)\n",
    "for i, x in enumerate(MERRA2):\n",
    "    winmap_MERRA2[som_MERRA2.winner(x)].append(i+1 if return_indices else x)"
   ]
  },
  {
   "cell_type": "code",
   "execution_count": 13,
   "metadata": {},
   "outputs": [
    {
     "name": "stdout",
     "output_type": "stream",
     "text": [
      " [ 5000 / 5000 ] 100% - 0:00:00 left \n",
      " quantization error: 52.908434191816745\n"
     ]
    }
   ],
   "source": [
    "# NARR\n",
    "h500_NARR_df = get_var('h500','NARR')\n",
    "slp_NARR_df = get_var('slp','NARR')\n",
    "ivt_NARR_df = get_var('ivt','NARR')\n",
    "\n",
    "NARR = concat_df([h500_NARR_df, slp_NARR_df, ivt_NARR_df])\n",
    "data_NARR = np.copy(NARR)\n",
    "np.random.seed(10)\n",
    "np.random.shuffle(data_NARR)\n",
    "\n",
    "som_NARR = MiniSom(som_shape[0], som_shape[1], data_NARR.shape[1], sigma=.5, learning_rate=.5,\n",
    "              neighborhood_function='gaussian', random_seed=10)\n",
    "som_NARR.train_random(data_NARR, 5000, verbose=True)"
   ]
  },
  {
   "cell_type": "code",
   "execution_count": 14,
   "metadata": {},
   "outputs": [],
   "source": [
    "return_indices = True\n",
    "winmap_NARR = defaultdict(list)\n",
    "for i, x in enumerate(NARR):\n",
    "    winmap_NARR[som_NARR.winner(x)].append(i+1 if return_indices else x)"
   ]
  },
  {
   "cell_type": "code",
   "execution_count": 16,
   "metadata": {},
   "outputs": [],
   "source": [
    "common_list_EM = []\n",
    "\n",
    "for cell in sorted(winmap_ERA5.keys()):\n",
    "    common = 0\n",
    "    for i in winmap_ERA5[cell]:\n",
    "        day = i\n",
    "        if i in winmap_MERRA2[cell]:\n",
    "            common += 1\n",
    "    common_list_EM.append(common)\n",
    "\n"
   ]
  },
  {
   "cell_type": "code",
   "execution_count": 17,
   "metadata": {},
   "outputs": [],
   "source": [
    "common_list_EN = []\n",
    "\n",
    "for cell in sorted(winmap_ERA5.keys()):\n",
    "    common = 0\n",
    "    for i in winmap_ERA5[cell]:\n",
    "        day = i\n",
    "        if i in winmap_NARR[cell]:\n",
    "            common += 1\n",
    "    common_list_EN.append(common)"
   ]
  },
  {
   "cell_type": "code",
   "execution_count": 18,
   "metadata": {},
   "outputs": [],
   "source": [
    "common_list_MN = []\n",
    "\n",
    "for cell in sorted(winmap_MERRA2.keys()):\n",
    "    common = 0\n",
    "    for i in winmap_MERRA2[cell]:\n",
    "        day = i\n",
    "        if i in winmap_NARR[cell]:\n",
    "            common += 1\n",
    "    common_list_MN.append(common)\n"
   ]
  },
  {
   "cell_type": "code",
   "execution_count": 154,
   "metadata": {},
   "outputs": [],
   "source": [
    "# filename = '../results/MERRA2_node_assignment.txt'\n",
    "# filehandler = open(filename, 'wt')\n",
    "# data = str(sorted((winmap_MERRA2.items())))\n",
    "# filehandler.write(data)\n",
    "# filehandler.close()"
   ]
  },
  {
   "cell_type": "code",
   "execution_count": 23,
   "metadata": {},
   "outputs": [],
   "source": [
    "def num_days_node(winmap):\n",
    "    for cell in sorted(winmap.keys()):\n",
    "        print(cell, len(winmap[cell]))"
   ]
  },
  {
   "cell_type": "code",
   "execution_count": 24,
   "metadata": {},
   "outputs": [
    {
     "name": "stdout",
     "output_type": "stream",
     "text": [
      "(0, 0) 337\n",
      "(0, 1) 918\n",
      "(0, 2) 432\n",
      "(0, 3) 1131\n",
      "(1, 0) 1045\n",
      "(1, 1) 999\n",
      "(1, 2) 844\n",
      "(1, 3) 647\n",
      "(2, 0) 588\n",
      "(2, 1) 893\n",
      "(2, 2) 948\n",
      "(2, 3) 948\n"
     ]
    }
   ],
   "source": [
    "num_days_node(winmap_ERA5)"
   ]
  },
  {
   "cell_type": "code",
   "execution_count": 25,
   "metadata": {},
   "outputs": [
    {
     "name": "stdout",
     "output_type": "stream",
     "text": [
      "(0, 0) 303\n",
      "(0, 1) 667\n",
      "(0, 2) 563\n",
      "(0, 3) 666\n",
      "(1, 0) 700\n",
      "(1, 1) 722\n",
      "(1, 2) 566\n",
      "(1, 3) 1153\n",
      "(2, 0) 1455\n",
      "(2, 1) 810\n",
      "(2, 2) 1036\n",
      "(2, 3) 1089\n"
     ]
    }
   ],
   "source": [
    "num_days_node(winmap_MERRA2)"
   ]
  },
  {
   "cell_type": "code",
   "execution_count": 43,
   "metadata": {},
   "outputs": [
    {
     "name": "stdout",
     "output_type": "stream",
     "text": [
      "(0, 0) 1656\n",
      "(0, 1) 821\n",
      "(0, 2) 888\n",
      "(0, 3) 613\n",
      "(1, 0) 617\n",
      "(1, 1) 564\n",
      "(1, 2) 784\n",
      "(1, 3) 515\n",
      "(2, 0) 1129\n",
      "(2, 1) 809\n",
      "(2, 2) 659\n",
      "(2, 3) 675\n"
     ]
    }
   ],
   "source": [
    "num_days_node(winmap_NARR)"
   ]
  },
  {
   "cell_type": "code",
   "execution_count": 45,
   "metadata": {},
   "outputs": [],
   "source": [
    "prod_common = {\n",
    "    'EM': common_list_EM,\n",
    "    'EN': common_list_EN,\n",
    "    'MN':common_list_MN\n",
    "}"
   ]
  },
  {
   "cell_type": "code",
   "execution_count": 46,
   "metadata": {},
   "outputs": [],
   "source": [
    "def perc_common(winmap, comp):\n",
    "    common_list = prod_common[comp]\n",
    "    for i, cell in enumerate(sorted(winmap.keys())):\n",
    "        num_days = len(winmap[cell])\n",
    "        common = common_list[i]\n",
    "        perc = (common/num_days)*100\n",
    "        print(perc)"
   ]
  },
  {
   "cell_type": "code",
   "execution_count": 58,
   "metadata": {},
   "outputs": [
    {
     "name": "stdout",
     "output_type": "stream",
     "text": [
      "78.04154302670622\n",
      "7.4074074074074066\n",
      "90.27777777777779\n",
      "0.0\n",
      "0.0\n",
      "0.0\n",
      "0.0\n",
      "0.0\n",
      "0.0\n",
      "0.0\n",
      "0.10548523206751054\n",
      "50.0\n"
     ]
    }
   ],
   "source": [
    "perc_common(winmap_ERA5, 'EM')"
   ]
  },
  {
   "cell_type": "code",
   "execution_count": 59,
   "metadata": {},
   "outputs": [
    {
     "name": "stdout",
     "output_type": "stream",
     "text": [
      "86.79867986798679\n",
      "10.194902548725636\n",
      "69.27175843694494\n",
      "0.0\n",
      "0.0\n",
      "0.0\n",
      "0.0\n",
      "0.0\n",
      "0.0\n",
      "0.0\n",
      "0.09652509652509653\n",
      "43.52617079889807\n"
     ]
    }
   ],
   "source": [
    "perc_common(winmap_MERRA2, 'EM')"
   ]
  },
  {
   "cell_type": "code",
   "execution_count": 60,
   "metadata": {},
   "outputs": [
    {
     "name": "stdout",
     "output_type": "stream",
     "text": [
      "2.3738872403560833\n",
      "10.675381263616558\n",
      "0.0\n",
      "0.0\n",
      "6.124401913875598\n",
      "0.0\n",
      "9.597156398104266\n",
      "31.066460587326123\n",
      "0.0\n",
      "12.541993281075028\n",
      "0.10548523206751054\n",
      "1.0548523206751055\n"
     ]
    }
   ],
   "source": [
    "perc_common(winmap_ERA5, 'EN')"
   ]
  },
  {
   "cell_type": "code",
   "execution_count": 61,
   "metadata": {},
   "outputs": [
    {
     "name": "stdout",
     "output_type": "stream",
     "text": [
      "0.4830917874396135\n",
      "11.936662606577345\n",
      "0.0\n",
      "0.0\n",
      "10.372771474878444\n",
      "0.0\n",
      "10.331632653061225\n",
      "39.029126213592235\n",
      "0.0\n",
      "13.8442521631644\n",
      "0.15174506828528073\n",
      "1.4814814814814816\n"
     ]
    }
   ],
   "source": [
    "perc_common(winmap_NARR, 'EN')"
   ]
  },
  {
   "cell_type": "code",
   "execution_count": 62,
   "metadata": {},
   "outputs": [
    {
     "name": "stdout",
     "output_type": "stream",
     "text": [
      "0.9900990099009901\n",
      "6.746626686656672\n",
      "0.0\n",
      "22.07207207207207\n",
      "0.0\n",
      "0.9695290858725761\n",
      "0.88339222614841\n",
      "0.0\n",
      "0.8934707903780068\n",
      "22.469135802469136\n",
      "0.9652509652509652\n",
      "0.0\n"
     ]
    }
   ],
   "source": [
    "perc_common(winmap_MERRA2, 'MN')"
   ]
  },
  {
   "cell_type": "code",
   "execution_count": 63,
   "metadata": {},
   "outputs": [
    {
     "name": "stdout",
     "output_type": "stream",
     "text": [
      "0.18115942028985507\n",
      "5.481120584652863\n",
      "0.0\n",
      "23.98042414355628\n",
      "0.0\n",
      "1.2411347517730498\n",
      "0.6377551020408163\n",
      "0.0\n",
      "1.1514614703277237\n",
      "22.49690976514215\n",
      "1.5174506828528074\n",
      "0.0\n"
     ]
    }
   ],
   "source": [
    "perc_common(winmap_NARR, 'MN')"
   ]
  },
  {
   "cell_type": "code",
   "execution_count": 68,
   "metadata": {},
   "outputs": [
    {
     "name": "stdout",
     "output_type": "stream",
     "text": [
      "0\n",
      "1\n",
      "2\n",
      "3\n",
      "4\n",
      "5\n",
      "6\n",
      "7\n",
      "8\n",
      "9\n",
      "10\n",
      "11\n",
      "12\n",
      "13\n",
      "14\n",
      "15\n",
      "16\n",
      "17\n",
      "18\n",
      "19\n",
      "20\n",
      "21\n",
      "22\n",
      "23\n",
      "24\n",
      "25\n",
      "26\n",
      "27\n",
      "28\n",
      "29\n",
      "30\n",
      "31\n",
      "32\n",
      "33\n",
      "34\n",
      "35\n",
      "36\n",
      "37\n",
      "38\n",
      "39\n",
      "40\n",
      "41\n",
      "42\n",
      "43\n",
      "44\n",
      "45\n",
      "46\n",
      "47\n",
      "48\n",
      "49\n",
      "50\n",
      "51\n",
      "52\n",
      "53\n",
      "54\n",
      "55\n",
      "56\n",
      "57\n",
      "58\n",
      "59\n",
      "60\n",
      "61\n",
      "62\n",
      "63\n",
      "64\n",
      "65\n",
      "66\n",
      "67\n",
      "68\n",
      "69\n",
      "70\n",
      "71\n",
      "72\n",
      "73\n",
      "74\n",
      "75\n",
      "76\n",
      "77\n",
      "78\n",
      "79\n",
      "80\n",
      "81\n",
      "82\n",
      "83\n",
      "84\n",
      "85\n",
      "86\n",
      "87\n",
      "88\n",
      "89\n",
      "90\n",
      "91\n",
      "92\n",
      "93\n",
      "94\n",
      "95\n",
      "96\n",
      "97\n",
      "98\n",
      "99\n"
     ]
    },
    {
     "data": {
      "image/png": "[encoded data removed]",
      "text/plain": [
       "<Figure size 432x288 with 1 Axes>"
      ]
     },
     "metadata": {
      "needs_background": "light"
     },
     "output_type": "display_data"
    }
   ],
   "source": [
    "som = MiniSom(som_shape[0], som_shape[1], data.shape[1], sigma=.5, learning_rate=.5,\n",
    "              neighborhood_function='gaussian', random_seed=10)\n",
    "\n",
    "max_iter = 100\n",
    "q_error = []\n",
    "t_error = []\n",
    "\n",
    "for i in range(max_iter):\n",
    "    print(i)\n",
    "    rand_i = np.random.randint(len(data))\n",
    "    som.update(data[rand_i], som.winner(data[rand_i]), i, max_iter)\n",
    "    q_error.append(som.quantization_error(data))\n",
    "    t_error.append(som.topographic_error(data))\n",
    "\n",
    "plt.plot(np.arange(max_iter), q_error, label='quantization error')\n",
    "plt.plot(np.arange(max_iter), t_error, label='topographic error')\n",
    "plt.ylabel('quantization error')\n",
    "plt.xlabel('iteration index')\n",
    "plt.legend()\n",
    "plt.show()\n"
   ]
  }
 ],
 "metadata": {
  "kernelspec": {
   "display_name": "Python 3",
   "language": "python",
   "name": "python3"
  },
  "language_info": {
   "codemirror_mode": {
    "name": "ipython",
    "version": 3
   },
   "file_extension": ".py",
   "mimetype": "text/x-python",
   "name": "python",
   "nbconvert_exporter": "python",
   "pygments_lexer": "ipython3",
   "version": "3.7.4"
  }
 },
 "nbformat": 4,
 "nbformat_minor": 4
}
