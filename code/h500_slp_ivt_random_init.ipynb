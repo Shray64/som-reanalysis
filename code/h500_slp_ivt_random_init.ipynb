{
 "cells": [
  {
   "cell_type": "code",
   "execution_count": 123,
   "metadata": {},
   "outputs": [],
   "source": [
    "import os\n",
    "from minisom import MiniSom\n",
    "import pandas as pd\n",
    "import numpy as np\n",
    "from collections import defaultdict\n",
    "import pickle\n",
    "from scipy import stats\n",
    "import matplotlib.pyplot as plt\n",
    "%matplotlib inline"
   ]
  },
  {
   "cell_type": "code",
   "execution_count": 2,
   "metadata": {},
   "outputs": [],
   "source": [
    "data_path = '/net/fs04/d2/xgao/SOM'"
   ]
  },
  {
   "cell_type": "code",
   "execution_count": 3,
   "metadata": {},
   "outputs": [],
   "source": [
    "som_shape = (3, 4)\n",
    "x = som_shape[0]\n",
    "y = som_shape[1]"
   ]
  },
  {
   "cell_type": "code",
   "execution_count": 120,
   "metadata": {},
   "outputs": [],
   "source": [
    "# Change the variables here\n",
    "var_list = ['h500', 'slp', 'ivt']\n",
    "var_combo = 'h500_slp_ivt'"
   ]
  },
  {
   "cell_type": "code",
   "execution_count": 121,
   "metadata": {},
   "outputs": [],
   "source": [
    "output_path = '../results/'+var_combo+'/'+str(x)+'x'+str(y)+'/'"
   ]
  },
  {
   "cell_type": "code",
   "execution_count": 122,
   "metadata": {},
   "outputs": [
    {
     "data": {
      "text/plain": [
       "'../results/h500_slp_ivt/3x4/'"
      ]
     },
     "execution_count": 122,
     "metadata": {},
     "output_type": "execute_result"
    }
   ],
   "source": [
    "output_path"
   ]
  },
  {
   "cell_type": "code",
   "execution_count": 23,
   "metadata": {},
   "outputs": [],
   "source": [
    "def get_var(prod):\n",
    "    dfs = []\n",
    "    for var in var_list:\n",
    "        df = pd.read_csv(data_path+'/'+prod+'/'+prod+'_daily_8019_SCUS_JFMAMOND_'+var+'_anom.txt', header = None, delim_whitespace=True)\n",
    "        dfs.append(df)\n",
    "    return dfs"
   ]
  },
  {
   "cell_type": "code",
   "execution_count": 8,
   "metadata": {},
   "outputs": [],
   "source": [
    "def concat_df(df_list):\n",
    "    comb_df = pd.concat(df_list, axis = 1)\n",
    "    comb = comb_df.values\n",
    "    return comb"
   ]
  },
  {
   "cell_type": "code",
   "execution_count": 9,
   "metadata": {},
   "outputs": [],
   "source": [
    "def num_days_node(winmap):\n",
    "    for cell in sorted(winmap.keys()):\n",
    "        print(cell, len(winmap[cell]))"
   ]
  },
  {
   "cell_type": "code",
   "execution_count": 10,
   "metadata": {},
   "outputs": [],
   "source": [
    "def get_winmap(data, som, return_indices = True):\n",
    "    winmap = defaultdict(list)\n",
    "    for i, j in enumerate(data):\n",
    "        winmap[som.winner(j)].append(i+1 if return_indices else j)\n",
    "    return winmap"
   ]
  },
  {
   "cell_type": "code",
   "execution_count": 11,
   "metadata": {},
   "outputs": [],
   "source": [
    "def get_node_composites(som, data):\n",
    "    winmap_patt = som.win_map(data)\n",
    "    composites = {}\n",
    "    for node in sorted(winmap_patt.keys()):\n",
    "        composites[node] = np.mean(np.array(winmap_patt[node]), axis = 0)\n",
    "    return composites"
   ]
  },
  {
   "cell_type": "code",
   "execution_count": 132,
   "metadata": {},
   "outputs": [],
   "source": [
    "def save_day_list(winmap, prod):\n",
    "    directory = output_path + prod\n",
    "    if not os.path.exists(directory):\n",
    "        os.makedirs(directory)\n",
    "    with open(directory+'/'+prod+'_node_assignment.txt', 'w') as f:\n",
    "        for item in sorted(winmap.items()):\n",
    "            item = str(item)[1:-1]\n",
    "            f.write(\"%s\\n\\n\" % item)\n",
    "    f.close()"
   ]
  },
  {
   "cell_type": "code",
   "execution_count": 135,
   "metadata": {},
   "outputs": [],
   "source": [
    "def save_composites(prod, composites):\n",
    "    directory = output_path + prod\n",
    "    if not os.path.exists(directory):\n",
    "        os.makedirs(directory)\n",
    "    \n",
    "    with open(directory+'/'+prod+'_composites.json', 'wb') as f:\n",
    "        pickle.dump(composites, f)\n",
    "        f.close()"
   ]
  },
  {
   "cell_type": "code",
   "execution_count": 79,
   "metadata": {},
   "outputs": [],
   "source": [
    "# for 3x4 or 4x3 figsize = ((15,12))\n",
    "def plot_som(var, composites, reanalysis_product):\n",
    "    plt.tight_layout()\n",
    "    fig, axs = plt.subplots(nrows = som_shape[0], ncols = som_shape[1], figsize = (15,8))\n",
    "    fig.suptitle(reanalysis_product+' '+var, fontsize=25, x=0.4, y=.92, horizontalalignment='left', verticalalignment='top',)\n",
    "\n",
    "    index = var_list.index(var)\n",
    "    for ax, node in zip(axs.flat, composites.keys()):\n",
    "        im = ax.imshow(composites[node].reshape((len(var_list),41,49))[index], interpolation='nearest', cmap='hot')\n",
    "    \n",
    "    \n",
    "    \n",
    "    fig.subplots_adjust(top=0.88)\n",
    "    \n",
    "    plt.colorbar(im, ax=axs.ravel().tolist())\n",
    "    plt.show()"
   ]
  },
  {
   "cell_type": "code",
   "execution_count": 68,
   "metadata": {},
   "outputs": [
    {
     "data": {
      "text/plain": [
       "array([[[ 1,  2],\n",
       "        [ 3,  4]],\n",
       "\n",
       "       [[ 5,  6],\n",
       "        [ 7,  8]],\n",
       "\n",
       "       [[ 9, 10],\n",
       "        [11, 12]]])"
      ]
     },
     "execution_count": 68,
     "metadata": {},
     "output_type": "execute_result"
    }
   ],
   "source": [
    "(np.array([1,2,3,4,5,6,7,8,9,10,11,12]).reshape(3,2,2))"
   ]
  },
  {
   "cell_type": "code",
   "execution_count": 72,
   "metadata": {},
   "outputs": [
    {
     "data": {
      "text/plain": [
       "(41, 49)"
      ]
     },
     "execution_count": 72,
     "metadata": {},
     "output_type": "execute_result"
    }
   ],
   "source": [
    "composites_ERA5[(0,0)].reshape((len(var_list),41,49))[0].shape"
   ]
  },
  {
   "cell_type": "code",
   "execution_count": 13,
   "metadata": {},
   "outputs": [],
   "source": [
    "# def save_composites(reanalysis_product, composites):\n",
    "#     filename = output_path + reanalysis_product + '_composites.json'\n",
    "#     file = open(filename, 'wb')\n",
    "#     pickle.dump(composites, file)\n",
    "#     file.close()"
   ]
  },
  {
   "cell_type": "code",
   "execution_count": 95,
   "metadata": {},
   "outputs": [],
   "source": [
    "#changed sigma from 0.5 and learning_rate from 0.5\n",
    "\n",
    "#1, 0.01\n",
    "\n",
    "sigma = 1\n",
    "learning_rate = 0.01\n",
    "neighbourhood_function = 'gaussian'\n",
    "random_seed = 10\n",
    "# iterations = 5000\n",
    "# verbose = True"
   ]
  },
  {
   "cell_type": "code",
   "execution_count": 15,
   "metadata": {},
   "outputs": [],
   "source": [
    "# rs = []\n",
    "# for i in range(len(data_ERA5)):\n",
    "#     r, _ = stats.pearsonr(data_ERA5[i], data_MERRA2[i])\n",
    "#     rs.append(r)"
   ]
  },
  {
   "cell_type": "code",
   "execution_count": 16,
   "metadata": {},
   "outputs": [],
   "source": [
    "# plt.plot(rs)\n",
    "# print(np.mean(rs))"
   ]
  },
  {
   "cell_type": "code",
   "execution_count": 17,
   "metadata": {},
   "outputs": [],
   "source": [
    "# rs = []\n",
    "# for i in range(len(data_ERA5)):\n",
    "#     r, _ = stats.pearsonr(data_ERA5[i], data_NARR[i])\n",
    "#     rs.append(r)"
   ]
  },
  {
   "cell_type": "code",
   "execution_count": 18,
   "metadata": {},
   "outputs": [],
   "source": [
    "# plt.plot(rs)\n",
    "# print(np.mean(rs))"
   ]
  },
  {
   "cell_type": "code",
   "execution_count": null,
   "metadata": {},
   "outputs": [],
   "source": [
    "dfs_ERA5 = get_var('ERA5')\n",
    "\n",
    "ERA5 = concat_df(dfs_ERA5)\n",
    "data_ERA5 = np.copy(ERA5)\n",
    "np.random.seed(10)\n",
    "# np.random.shuffle(data_ERA5)\n",
    "\n",
    "input_len = data_ERA5.shape[1]\n",
    "iterations = len(data_ERA5)*10\n",
    "\n",
    "som_ERA5 = MiniSom(x , y, input_len, sigma=sigma, learning_rate=learning_rate,\n",
    "              neighborhood_function=neighbourhood_function, random_seed=random_seed)\n",
    "# som_ERA5.train_random(data_ERA5, iterations, verbose=True)\n",
    "som_ERA5.train(data_ERA5, iterations, verbose=True)"
   ]
  },
  {
   "cell_type": "code",
   "execution_count": 25,
   "metadata": {},
   "outputs": [],
   "source": [
    "winmap_ERA5 = get_winmap(ERA5, som_ERA5)"
   ]
  },
  {
   "cell_type": "code",
   "execution_count": 26,
   "metadata": {},
   "outputs": [],
   "source": [
    "composites_ERA5 = get_node_composites(som_ERA5, data_ERA5)"
   ]
  },
  {
   "cell_type": "code",
   "execution_count": 136,
   "metadata": {},
   "outputs": [],
   "source": [
    "save_composites('ERA5', composites_ERA5)"
   ]
  },
  {
   "cell_type": "code",
   "execution_count": 137,
   "metadata": {},
   "outputs": [],
   "source": [
    "save_day_list(winmap_ERA5, 'ERA5')"
   ]
  },
  {
   "cell_type": "code",
   "execution_count": 28,
   "metadata": {},
   "outputs": [
    {
     "name": "stdout",
     "output_type": "stream",
     "text": [
      " [ 97300 / 97300 ] 100% - 0:00:00 left \n",
      " quantization error: 53.12995120793487\n"
     ]
    }
   ],
   "source": [
    "# MERRA2\n",
    "dfs_MERRA2 = get_var('MERRA2')\n",
    "\n",
    "MERRA2 = concat_df(dfs_MERRA2)\n",
    "data_MERRA2 = np.copy(MERRA2)\n",
    "np.random.seed(10)\n",
    "# np.random.shuffle(data_MERRA2)\n",
    "\n",
    "input_len = data_MERRA2.shape[1]\n",
    "iterations = len(data_MERRA2)*10\n",
    "\n",
    "som_MERRA2 = MiniSom(x , y, input_len, sigma=sigma, learning_rate=learning_rate,\n",
    "              neighborhood_function=neighbourhood_function, random_seed=random_seed)\n",
    "# som_MERRA2.train_random(data_MERRA2, iterations, verbose=True)\n",
    "som_MERRA2.train(data_MERRA2, iterations, verbose=True)"
   ]
  },
  {
   "cell_type": "code",
   "execution_count": 29,
   "metadata": {},
   "outputs": [],
   "source": [
    "winmap_MERRA2 = get_winmap(MERRA2, som_MERRA2)"
   ]
  },
  {
   "cell_type": "code",
   "execution_count": 30,
   "metadata": {},
   "outputs": [],
   "source": [
    "composites_MERRA2 = get_node_composites(som_MERRA2, data_MERRA2)"
   ]
  },
  {
   "cell_type": "code",
   "execution_count": 31,
   "metadata": {},
   "outputs": [],
   "source": [
    "# save_composites('MERRA2', composites_MERRA2)"
   ]
  },
  {
   "cell_type": "code",
   "execution_count": null,
   "metadata": {},
   "outputs": [],
   "source": [
    "save_day_list(winmap_MERRA2, 'MERRA2')"
   ]
  },
  {
   "cell_type": "code",
   "execution_count": 32,
   "metadata": {},
   "outputs": [
    {
     "data": {
      "text/plain": [
       "0.01"
      ]
     },
     "execution_count": 32,
     "metadata": {},
     "output_type": "execute_result"
    }
   ],
   "source": [
    "learning_rate"
   ]
  },
  {
   "cell_type": "code",
   "execution_count": 33,
   "metadata": {},
   "outputs": [
    {
     "name": "stdout",
     "output_type": "stream",
     "text": [
      " [ 97300 / 97300 ] 100% - 0:00:00 left \n",
      " quantization error: 52.99122226550665\n"
     ]
    }
   ],
   "source": [
    "# NARR\n",
    "dfs_NARR = get_var('NARR')\n",
    "\n",
    "NARR = concat_df(dfs_NARR)\n",
    "data_NARR = np.copy(NARR)\n",
    "np.random.seed(10)\n",
    "# np.random.shuffle(data_NARR)\n",
    "\n",
    "input_len = data_NARR.shape[1]\n",
    "iterations = len(data_NARR)*10\n",
    "\n",
    "som_NARR = MiniSom(x, y, input_len, sigma=sigma, learning_rate=learning_rate,\n",
    "              neighborhood_function=neighbourhood_function, random_seed=random_seed)\n",
    "# som_NARR.train_random(data_NARR, 5000, verbose=True)\n",
    "som_NARR.train(data_NARR, iterations, verbose=True)"
   ]
  },
  {
   "cell_type": "code",
   "execution_count": 34,
   "metadata": {},
   "outputs": [],
   "source": [
    "winmap_NARR = get_winmap(NARR, som_NARR)"
   ]
  },
  {
   "cell_type": "code",
   "execution_count": 35,
   "metadata": {},
   "outputs": [],
   "source": [
    "composites_NARR = get_node_composites(som_NARR, data_NARR)"
   ]
  },
  {
   "cell_type": "code",
   "execution_count": 36,
   "metadata": {},
   "outputs": [],
   "source": [
    "# save_composites('NARR', composites_NARR)"
   ]
  },
  {
   "cell_type": "code",
   "execution_count": null,
   "metadata": {},
   "outputs": [],
   "source": [
    "# save_day_list(winmap_NARR, 'NARR')"
   ]
  },
  {
   "cell_type": "markdown",
   "metadata": {},
   "source": [
    "# Number of Days Per Node"
   ]
  },
  {
   "cell_type": "code",
   "execution_count": 37,
   "metadata": {},
   "outputs": [
    {
     "name": "stdout",
     "output_type": "stream",
     "text": [
      "(0, 0) 614\n",
      "(0, 1) 829\n",
      "(0, 2) 803\n",
      "(0, 3) 750\n",
      "(1, 0) 659\n",
      "(1, 1) 902\n",
      "(1, 2) 924\n",
      "(1, 3) 746\n",
      "(2, 0) 818\n",
      "(2, 1) 928\n",
      "(2, 2) 911\n",
      "(2, 3) 846\n"
     ]
    }
   ],
   "source": [
    "num_days_node(winmap_ERA5)"
   ]
  },
  {
   "cell_type": "code",
   "execution_count": 38,
   "metadata": {},
   "outputs": [
    {
     "name": "stdout",
     "output_type": "stream",
     "text": [
      "(0, 0) 909\n",
      "(0, 1) 738\n",
      "(0, 2) 781\n",
      "(0, 3) 865\n",
      "(1, 0) 860\n",
      "(1, 1) 775\n",
      "(1, 2) 803\n",
      "(1, 3) 705\n",
      "(2, 0) 838\n",
      "(2, 1) 922\n",
      "(2, 2) 823\n",
      "(2, 3) 711\n"
     ]
    }
   ],
   "source": [
    "num_days_node(winmap_MERRA2)"
   ]
  },
  {
   "cell_type": "code",
   "execution_count": 39,
   "metadata": {},
   "outputs": [
    {
     "name": "stdout",
     "output_type": "stream",
     "text": [
      "(0, 0) 585\n",
      "(0, 1) 805\n",
      "(0, 2) 768\n",
      "(0, 3) 727\n",
      "(1, 0) 691\n",
      "(1, 1) 896\n",
      "(1, 2) 869\n",
      "(1, 3) 781\n",
      "(2, 0) 805\n",
      "(2, 1) 933\n",
      "(2, 2) 965\n",
      "(2, 3) 905\n"
     ]
    }
   ],
   "source": [
    "num_days_node(winmap_NARR)"
   ]
  },
  {
   "cell_type": "markdown",
   "metadata": {},
   "source": [
    "# Common Number of Days"
   ]
  },
  {
   "cell_type": "code",
   "execution_count": 40,
   "metadata": {},
   "outputs": [],
   "source": [
    "common_list_EM = []\n",
    "\n",
    "for cell in sorted(winmap_ERA5.keys()):\n",
    "    common = 0\n",
    "    for i in winmap_ERA5[cell]:\n",
    "        day = i\n",
    "        if i in winmap_MERRA2[cell]:\n",
    "            common += 1\n",
    "    common_list_EM.append(common)\n",
    "\n"
   ]
  },
  {
   "cell_type": "code",
   "execution_count": 41,
   "metadata": {},
   "outputs": [],
   "source": [
    "common_list_EN = []\n",
    "\n",
    "for cell in sorted(winmap_ERA5.keys()):\n",
    "    common = 0\n",
    "    for i in winmap_ERA5[cell]:\n",
    "        day = i\n",
    "        if i in winmap_NARR[cell]:\n",
    "            common += 1\n",
    "    common_list_EN.append(common)"
   ]
  },
  {
   "cell_type": "code",
   "execution_count": 42,
   "metadata": {},
   "outputs": [],
   "source": [
    "common_list_MN = []\n",
    "\n",
    "for cell in sorted(winmap_MERRA2.keys()):\n",
    "    common = 0\n",
    "    for i in winmap_MERRA2[cell]:\n",
    "        day = i\n",
    "        if i in winmap_NARR[cell]:\n",
    "            common += 1\n",
    "    common_list_MN.append(common)\n"
   ]
  },
  {
   "cell_type": "code",
   "execution_count": 43,
   "metadata": {},
   "outputs": [
    {
     "data": {
      "text/plain": [
       "[25, 0, 64, 0, 76, 133, 394, 9, 0, 0, 1, 0]"
      ]
     },
     "execution_count": 43,
     "metadata": {},
     "output_type": "execute_result"
    }
   ],
   "source": [
    "common_list_EM"
   ]
  },
  {
   "cell_type": "code",
   "execution_count": 44,
   "metadata": {},
   "outputs": [
    {
     "data": {
      "text/plain": [
       "[549, 720, 686, 674, 604, 757, 751, 657, 760, 806, 787, 771]"
      ]
     },
     "execution_count": 44,
     "metadata": {},
     "output_type": "execute_result"
    }
   ],
   "source": [
    "common_list_EN"
   ]
  },
  {
   "cell_type": "code",
   "execution_count": 45,
   "metadata": {},
   "outputs": [
    {
     "data": {
      "text/plain": [
       "[13, 0, 52, 0, 74, 111, 404, 9, 0, 0, 1, 0]"
      ]
     },
     "execution_count": 45,
     "metadata": {},
     "output_type": "execute_result"
    }
   ],
   "source": [
    "common_list_MN"
   ]
  },
  {
   "cell_type": "code",
   "execution_count": 46,
   "metadata": {},
   "outputs": [],
   "source": [
    "prod_common = {\n",
    "    'EM': common_list_EM,\n",
    "    'EN': common_list_EN,\n",
    "    'MN':common_list_MN\n",
    "}"
   ]
  },
  {
   "cell_type": "markdown",
   "metadata": {},
   "source": [
    "# Percentage Common Days"
   ]
  },
  {
   "cell_type": "code",
   "execution_count": 47,
   "metadata": {},
   "outputs": [],
   "source": [
    "def perc_common(winmap, comp):\n",
    "    common_list = prod_common[comp]\n",
    "    for i, cell in enumerate(sorted(winmap.keys())):\n",
    "        num_days = len(winmap[cell])\n",
    "        common = common_list[i]\n",
    "        perc = (common/num_days)*100\n",
    "        print(perc)"
   ]
  },
  {
   "cell_type": "code",
   "execution_count": 48,
   "metadata": {},
   "outputs": [
    {
     "name": "stdout",
     "output_type": "stream",
     "text": [
      "4.071661237785016\n",
      "0.0\n",
      "7.970112079701121\n",
      "0.0\n",
      "11.532625189681335\n",
      "14.745011086474502\n",
      "42.64069264069264\n",
      "1.2064343163538873\n",
      "0.0\n",
      "0.0\n",
      "0.10976948408342481\n",
      "0.0\n"
     ]
    }
   ],
   "source": [
    "perc_common(winmap_ERA5, 'EM')"
   ]
  },
  {
   "cell_type": "code",
   "execution_count": 49,
   "metadata": {},
   "outputs": [
    {
     "name": "stdout",
     "output_type": "stream",
     "text": [
      "89.41368078175896\n",
      "86.85162846803377\n",
      "85.42963885429639\n",
      "89.86666666666666\n",
      "91.65402124430956\n",
      "83.92461197339246\n",
      "81.27705627705627\n",
      "88.06970509383379\n",
      "92.90953545232273\n",
      "86.85344827586206\n",
      "86.38858397365532\n",
      "91.13475177304964\n"
     ]
    }
   ],
   "source": [
    "perc_common(winmap_ERA5, 'EN')"
   ]
  },
  {
   "cell_type": "code",
   "execution_count": 50,
   "metadata": {},
   "outputs": [
    {
     "name": "stdout",
     "output_type": "stream",
     "text": [
      "2.7502750275027505\n",
      "0.0\n",
      "8.194622279129321\n",
      "0.0\n",
      "8.837209302325581\n",
      "17.161290322580644\n",
      "49.066002490660026\n",
      "1.276595744680851\n",
      "0.0\n",
      "0.0\n",
      "0.12150668286755771\n",
      "0.0\n"
     ]
    }
   ],
   "source": [
    "perc_common(winmap_MERRA2, 'EM')"
   ]
  },
  {
   "cell_type": "code",
   "execution_count": 51,
   "metadata": {},
   "outputs": [
    {
     "name": "stdout",
     "output_type": "stream",
     "text": [
      "1.4301430143014302\n",
      "0.0\n",
      "6.658130601792574\n",
      "0.0\n",
      "8.604651162790699\n",
      "14.32258064516129\n",
      "50.31133250311333\n",
      "1.276595744680851\n",
      "0.0\n",
      "0.0\n",
      "0.12150668286755771\n",
      "0.0\n"
     ]
    }
   ],
   "source": [
    "perc_common(winmap_MERRA2, 'MN')"
   ]
  },
  {
   "cell_type": "code",
   "execution_count": 52,
   "metadata": {},
   "outputs": [
    {
     "name": "stdout",
     "output_type": "stream",
     "text": [
      "93.84615384615384\n",
      "89.44099378881988\n",
      "89.32291666666666\n",
      "92.70976616231087\n",
      "87.4095513748191\n",
      "84.48660714285714\n",
      "86.42117376294591\n",
      "84.12291933418695\n",
      "94.40993788819875\n",
      "86.38799571275455\n",
      "81.55440414507773\n",
      "85.19337016574585\n"
     ]
    }
   ],
   "source": [
    "perc_common(winmap_NARR, 'EN')"
   ]
  },
  {
   "cell_type": "code",
   "execution_count": 53,
   "metadata": {},
   "outputs": [
    {
     "name": "stdout",
     "output_type": "stream",
     "text": [
      "2.2222222222222223\n",
      "0.0\n",
      "6.770833333333333\n",
      "0.0\n",
      "10.709117221418236\n",
      "12.388392857142858\n",
      "46.49021864211738\n",
      "1.1523687580025608\n",
      "0.0\n",
      "0.0\n",
      "0.10362694300518134\n",
      "0.0\n"
     ]
    }
   ],
   "source": [
    "perc_common(winmap_NARR, 'MN')"
   ]
  },
  {
   "cell_type": "markdown",
   "metadata": {},
   "source": [
    "# SOM Plots"
   ]
  },
  {
   "cell_type": "code",
   "execution_count": 81,
   "metadata": {},
   "outputs": [
    {
     "data": {
      "text/plain": [
       "<Figure size 432x288 with 0 Axes>"
      ]
     },
     "metadata": {},
     "output_type": "display_data"
    },
    {
     "data": {
      "image/png": "[encoded data removed]",
      "text/plain": [
       "<Figure size 1080x576 with 13 Axes>"
      ]
     },
     "metadata": {
      "needs_background": "light"
     },
     "output_type": "display_data"
    }
   ],
   "source": [
    "plot_som('ivt', composites_ERA5, 'ERA5')"
   ]
  },
  {
   "cell_type": "code",
   "execution_count": 82,
   "metadata": {},
   "outputs": [
    {
     "data": {
      "text/plain": [
       "<Figure size 432x288 with 0 Axes>"
      ]
     },
     "metadata": {},
     "output_type": "display_data"
    },
    {
     "data": {
      "image/png": "[encoded data removed]",
      "text/plain": [
       "<Figure size 1080x576 with 13 Axes>"
      ]
     },
     "metadata": {
      "needs_background": "light"
     },
     "output_type": "display_data"
    }
   ],
   "source": [
    "plot_som('ivt', composites_MERRA2, 'MERRA2')"
   ]
  },
  {
   "cell_type": "code",
   "execution_count": 83,
   "metadata": {},
   "outputs": [
    {
     "data": {
      "text/plain": [
       "<Figure size 432x288 with 0 Axes>"
      ]
     },
     "metadata": {},
     "output_type": "display_data"
    },
    {
     "data": {
      "image/png": "[encoded data removed]",
      "text/plain": [
       "<Figure size 1080x576 with 13 Axes>"
      ]
     },
     "metadata": {
      "needs_background": "light"
     },
     "output_type": "display_data"
    }
   ],
   "source": [
    "plot_som('ivt', composites_NARR, 'NARR')"
   ]
  },
  {
   "cell_type": "markdown",
   "metadata": {},
   "source": [
    "# Correlation Analysis"
   ]
  },
  {
   "cell_type": "code",
   "execution_count": 84,
   "metadata": {},
   "outputs": [
    {
     "name": "stdout",
     "output_type": "stream",
     "text": [
      "ERA5 node (0, 0) MERRA2 node (0, 0): [0.356 0.   ]\n",
      "ERA5 node (0, 1) MERRA2 node (0, 1): [-0.406  0.   ]\n",
      "ERA5 node (0, 2) MERRA2 node (0, 2): [0.559 0.   ]\n",
      "ERA5 node (0, 3) MERRA2 node (0, 3): [0.146 0.   ]\n",
      "ERA5 node (1, 0) MERRA2 node (1, 0): [0.326 0.   ]\n",
      "ERA5 node (1, 1) MERRA2 node (1, 1): [-0.083  0.   ]\n",
      "ERA5 node (1, 2) MERRA2 node (1, 2): [0.66 0.  ]\n",
      "ERA5 node (1, 3) MERRA2 node (1, 3): [0.073 0.   ]\n",
      "ERA5 node (2, 0) MERRA2 node (2, 0): [0.285 0.   ]\n",
      "ERA5 node (2, 1) MERRA2 node (2, 1): [0.456 0.   ]\n",
      "ERA5 node (2, 2) MERRA2 node (2, 2): [-0.006  0.646]\n",
      "ERA5 node (2, 3) MERRA2 node (2, 3): [-0.319  0.   ]\n"
     ]
    }
   ],
   "source": [
    "for node in composites_ERA5.keys():\n",
    "    patt_ERA5 = composites_ERA5[node]\n",
    "    patt_MERRA2 = composites_MERRA2[node]\n",
    "    print('ERA5 node {} MERRA2 node {}: {}'.format(node, node, np.round(stats.pearsonr(patt_ERA5, patt_MERRA2),3)))\n",
    "    "
   ]
  },
  {
   "cell_type": "code",
   "execution_count": 85,
   "metadata": {},
   "outputs": [
    {
     "name": "stdout",
     "output_type": "stream",
     "text": [
      "ERA5 node (0, 0) NARR node (0, 0): [0.998 0.   ]\n",
      "ERA5 node (0, 1) NARR node (0, 1): [0.998 0.   ]\n",
      "ERA5 node (0, 2) NARR node (0, 2): [0.998 0.   ]\n",
      "ERA5 node (0, 3) NARR node (0, 3): [0.996 0.   ]\n",
      "ERA5 node (1, 0) NARR node (1, 0): [0.994 0.   ]\n",
      "ERA5 node (1, 1) NARR node (1, 1): [0.974 0.   ]\n",
      "ERA5 node (1, 2) NARR node (1, 2): [0.986 0.   ]\n",
      "ERA5 node (1, 3) NARR node (1, 3): [0.993 0.   ]\n",
      "ERA5 node (2, 0) NARR node (2, 0): [0.997 0.   ]\n",
      "ERA5 node (2, 1) NARR node (2, 1): [0.998 0.   ]\n",
      "ERA5 node (2, 2) NARR node (2, 2): [0.999 0.   ]\n",
      "ERA5 node (2, 3) NARR node (2, 3): [0.995 0.   ]\n"
     ]
    }
   ],
   "source": [
    "for node in composites_ERA5.keys():\n",
    "    patt_ERA5 = composites_ERA5[node]\n",
    "    patt_NARR = composites_NARR[node]\n",
    "    print('ERA5 node {} NARR node {}: {}'.format(node, node, np.round(stats.pearsonr(patt_ERA5, patt_NARR),3)))"
   ]
  },
  {
   "cell_type": "code",
   "execution_count": 86,
   "metadata": {},
   "outputs": [
    {
     "name": "stdout",
     "output_type": "stream",
     "text": [
      "MERRA2 node (0, 0) NARR node (0, 0): [0.331 0.   ]\n",
      "MERRA2 node (0, 1) NARR node (0, 1): [-0.406  0.   ]\n",
      "MERRA2 node (0, 2) NARR node (0, 2): [0.559 0.   ]\n",
      "MERRA2 node (0, 3) NARR node (0, 3): [0.084 0.   ]\n",
      "MERRA2 node (1, 0) NARR node (1, 0): [0.246 0.   ]\n",
      "MERRA2 node (1, 1) NARR node (1, 1): [-0.223  0.   ]\n",
      "MERRA2 node (1, 2) NARR node (1, 2): [0.694 0.   ]\n",
      "MERRA2 node (1, 3) NARR node (1, 3): [0.026 0.04 ]\n",
      "MERRA2 node (2, 0) NARR node (2, 0): [0.254 0.   ]\n",
      "MERRA2 node (2, 1) NARR node (2, 1): [0.42 0.  ]\n",
      "MERRA2 node (2, 2) NARR node (2, 2): [-0.008  0.551]\n",
      "MERRA2 node (2, 3) NARR node (2, 3): [-0.374  0.   ]\n"
     ]
    }
   ],
   "source": [
    "for node in composites_MERRA2.keys():\n",
    "    patt_MERRA2 = composites_MERRA2[node]\n",
    "    patt_NARR = composites_NARR[node]\n",
    "    print('MERRA2 node {} NARR node {}: {}'.format(node, node, np.round(stats.pearsonr(patt_MERRA2, patt_NARR),3)))"
   ]
  },
  {
   "cell_type": "code",
   "execution_count": 87,
   "metadata": {},
   "outputs": [
    {
     "name": "stdout",
     "output_type": "stream",
     "text": [
      "ERA5 node (0, 0) MERRA2 node (0, 2): (0.7724803693695685, 0.0)\n",
      "ERA5 node (0, 0) MERRA2 node (0, 3): (0.9758641106321573, 0.0)\n",
      "ERA5 node (0, 0) MERRA2 node (1, 3): (0.5466667751197637, 0.0)\n",
      "ERA5 node (0, 1) MERRA2 node (0, 2): (0.7803821720168552, 0.0)\n",
      "ERA5 node (0, 1) MERRA2 node (0, 3): (0.8723756529501657, 0.0)\n",
      "ERA5 node (0, 1) MERRA2 node (1, 3): (0.9261384305954996, 0.0)\n",
      "ERA5 node (0, 2) MERRA2 node (1, 2): (0.839626039212698, 0.0)\n",
      "ERA5 node (0, 2) MERRA2 node (1, 3): (0.8586810585600392, 0.0)\n",
      "ERA5 node (0, 2) MERRA2 node (2, 3): (0.951415718161271, 0.0)\n",
      "ERA5 node (0, 3) MERRA2 node (1, 2): (0.8300543427416661, 0.0)\n",
      "ERA5 node (0, 3) MERRA2 node (1, 3): (0.7936319720757029, 0.0)\n",
      "ERA5 node (0, 3) MERRA2 node (2, 2): (0.6180319705578304, 0.0)\n",
      "ERA5 node (0, 3) MERRA2 node (2, 3): (0.9925393235355752, 0.0)\n",
      "ERA5 node (1, 0) MERRA2 node (0, 0): (0.8691653753577585, 0.0)\n",
      "ERA5 node (1, 0) MERRA2 node (0, 3): (0.5955669543323062, 0.0)\n",
      "ERA5 node (1, 1) MERRA2 node (0, 2): (0.7033723684139112, 0.0)\n",
      "ERA5 node (1, 2) MERRA2 node (1, 1): (0.6541670506203517, 0.0)\n",
      "ERA5 node (1, 2) MERRA2 node (2, 1): (0.7697867681540228, 0.0)\n",
      "ERA5 node (1, 2) MERRA2 node (2, 2): (0.9195598109891865, 0.0)\n",
      "ERA5 node (1, 3) MERRA2 node (1, 2): (0.6661005314452181, 0.0)\n",
      "ERA5 node (1, 3) MERRA2 node (2, 1): (0.7481853332381654, 0.0)\n",
      "ERA5 node (1, 3) MERRA2 node (2, 2): (0.9842264787185016, 0.0)\n",
      "ERA5 node (1, 3) MERRA2 node (2, 3): (0.5096717143917614, 0.0)\n",
      "ERA5 node (2, 0) MERRA2 node (0, 0): (0.9240907700034974, 0.0)\n",
      "ERA5 node (2, 0) MERRA2 node (0, 1): (0.6702535706628, 0.0)\n",
      "ERA5 node (2, 0) MERRA2 node (1, 0): (0.705101261904806, 0.0)\n",
      "ERA5 node (2, 1) MERRA2 node (0, 1): (0.5378511547575778, 0.0)\n",
      "ERA5 node (2, 1) MERRA2 node (1, 0): (0.8229117840670681, 0.0)\n",
      "ERA5 node (2, 1) MERRA2 node (1, 1): (0.7359716983825857, 0.0)\n",
      "ERA5 node (2, 1) MERRA2 node (2, 0): (0.7703850038001973, 0.0)\n",
      "ERA5 node (2, 2) MERRA2 node (1, 0): (0.8712220482141034, 0.0)\n",
      "ERA5 node (2, 2) MERRA2 node (1, 1): (0.6219465405393747, 0.0)\n",
      "ERA5 node (2, 2) MERRA2 node (2, 0): (0.9898750603235299, 0.0)\n",
      "ERA5 node (2, 2) MERRA2 node (2, 1): (0.7220615047670611, 0.0)\n",
      "ERA5 node (2, 3) MERRA2 node (1, 0): (0.5036635504824494, 0.0)\n",
      "ERA5 node (2, 3) MERRA2 node (1, 1): (0.7147553378863513, 0.0)\n",
      "ERA5 node (2, 3) MERRA2 node (2, 0): (0.8852140943027682, 0.0)\n",
      "ERA5 node (2, 3) MERRA2 node (2, 1): (0.9693793102730989, 0.0)\n"
     ]
    }
   ],
   "source": [
    "for node_ERA5 in composites_ERA5.keys():\n",
    "    patt_ERA5 = composites_ERA5[node_ERA5]\n",
    "    for node_MERRA2 in composites_MERRA2.keys():\n",
    "        if node_ERA5 == node_MERRA2:\n",
    "            continue\n",
    "        patt_MERRA2 = composites_MERRA2[node_MERRA2]\n",
    "        r, _ = stats.pearsonr(patt_ERA5, patt_MERRA2)\n",
    "        if r >= 0.5:\n",
    "            print('ERA5 node {} MERRA2 node {}: {}'.format(node_ERA5, node_MERRA2, stats.pearsonr(patt_ERA5, patt_MERRA2)))"
   ]
  },
  {
   "cell_type": "code",
   "execution_count": 88,
   "metadata": {},
   "outputs": [
    {
     "name": "stdout",
     "output_type": "stream",
     "text": [
      "ERA5 node (0, 0) NARR node (0, 1): (0.7761199152753517, 0.0)\n",
      "ERA5 node (0, 0) NARR node (1, 0): (0.7458465274529151, 0.0)\n",
      "ERA5 node (0, 0) NARR node (1, 1): (0.5232140063903563, 0.0)\n",
      "ERA5 node (0, 1) NARR node (0, 0): (0.8081892069145873, 0.0)\n",
      "ERA5 node (0, 1) NARR node (0, 2): (0.6705660823384151, 0.0)\n",
      "ERA5 node (0, 2) NARR node (0, 1): (0.6808789932694793, 0.0)\n",
      "ERA5 node (0, 2) NARR node (0, 3): (0.9443145295237055, 0.0)\n",
      "ERA5 node (0, 3) NARR node (0, 1): (0.5651781900749792, 0.0)\n",
      "ERA5 node (0, 3) NARR node (0, 2): (0.957972587648333, 0.0)\n",
      "ERA5 node (1, 0) NARR node (0, 0): (0.6830223785605261, 0.0)\n",
      "ERA5 node (1, 0) NARR node (2, 0): (0.6692176981306934, 0.0)\n",
      "ERA5 node (1, 2) NARR node (1, 3): (0.9305624112076528, 0.0)\n",
      "ERA5 node (1, 2) NARR node (2, 3): (0.5468442999019713, 0.0)\n",
      "ERA5 node (1, 3) NARR node (0, 3): (0.5396451059213596, 0.0)\n",
      "ERA5 node (1, 3) NARR node (1, 2): (0.9157990233165629, 0.0)\n",
      "ERA5 node (1, 3) NARR node (2, 3): (0.5296342133082917, 0.0)\n",
      "ERA5 node (2, 0) NARR node (1, 0): (0.5824802828056274, 0.0)\n",
      "ERA5 node (2, 0) NARR node (2, 1): (0.7386013389919363, 0.0)\n",
      "ERA5 node (2, 1) NARR node (2, 0): (0.6728157862232643, 0.0)\n",
      "ERA5 node (2, 1) NARR node (2, 2): (0.8312572828566523, 0.0)\n",
      "ERA5 node (2, 1) NARR node (2, 3): (0.5875067247729961, 0.0)\n",
      "ERA5 node (2, 2) NARR node (2, 1): (0.7790510485844574, 0.0)\n",
      "ERA5 node (2, 2) NARR node (2, 3): (0.8926398306841926, 0.0)\n",
      "ERA5 node (2, 3) NARR node (1, 2): (0.5221932208069776, 0.0)\n",
      "ERA5 node (2, 3) NARR node (1, 3): (0.6611516272922333, 0.0)\n",
      "ERA5 node (2, 3) NARR node (2, 1): (0.5149366865627083, 0.0)\n",
      "ERA5 node (2, 3) NARR node (2, 2): (0.8528209721797968, 0.0)\n"
     ]
    }
   ],
   "source": [
    "for node_ERA5 in composites_ERA5.keys():\n",
    "    patt_ERA5 = composites_ERA5[node_ERA5]\n",
    "    for node_NARR in composites_NARR.keys():\n",
    "        if (node_NARR == node_ERA5):\n",
    "            continue\n",
    "        patt_NARR = composites_NARR[node_NARR]\n",
    "        r, _ = stats.pearsonr(patt_ERA5, patt_NARR)\n",
    "        if r >= 0.5:\n",
    "            print('ERA5 node {} NARR node {}: {}'.format(node_ERA5, node_NARR, stats.pearsonr(patt_ERA5, patt_NARR)))"
   ]
  },
  {
   "cell_type": "code",
   "execution_count": 89,
   "metadata": {},
   "outputs": [
    {
     "name": "stdout",
     "output_type": "stream",
     "text": [
      "MERRA2 node (0, 0) NARR node (2, 0): (0.9452293839290511, 0.0)\n",
      "MERRA2 node (0, 3) NARR node (0, 0): (0.9823410259647392, 0.0)\n",
      "MERRA2 node (1, 3) NARR node (0, 1): (0.935923241320299, 0.0)\n",
      "MERRA2 node (2, 0) NARR node (2, 2): (0.987993968550355, 0.0)\n",
      "MERRA2 node (2, 0) NARR node (2, 3): (0.9200189270561339, 0.0)\n",
      "MERRA2 node (2, 1) NARR node (2, 3): (0.9449717563855488, 0.0)\n",
      "MERRA2 node (2, 2) NARR node (1, 2): (0.9145709520397005, 0.0)\n",
      "MERRA2 node (2, 2) NARR node (1, 3): (0.9609480741678609, 0.0)\n",
      "MERRA2 node (2, 3) NARR node (0, 2): (0.951742085128555, 0.0)\n",
      "MERRA2 node (2, 3) NARR node (0, 3): (0.994264534122004, 0.0)\n"
     ]
    }
   ],
   "source": [
    "for node_MERRA2 in composites_MERRA2.keys():\n",
    "    patt_MERRA2 = composites_MERRA2[node_MERRA2]\n",
    "    for node_NARR in composites_NARR.keys():\n",
    "        patt_NARR = composites_NARR[node_NARR]\n",
    "        r, _ = stats.pearsonr(patt_MERRA2, patt_NARR)\n",
    "        if r >= 0.9:\n",
    "            print('MERRA2 node {} NARR node {}: {}'.format(node_MERRA2, node_NARR, stats.pearsonr(patt_MERRA2, patt_NARR)))"
   ]
  },
  {
   "cell_type": "code",
   "execution_count": 90,
   "metadata": {},
   "outputs": [
    {
     "name": "stdout",
     "output_type": "stream",
     "text": [
      "0\n"
     ]
    }
   ],
   "source": [
    "common = 0\n",
    "for day in winmap_ERA5[0,1]:\n",
    "    if day in winmap_MERRA2[2,0]:\n",
    "        common+=1\n",
    "print(common)"
   ]
  },
  {
   "cell_type": "code",
   "execution_count": 91,
   "metadata": {},
   "outputs": [],
   "source": [
    "for node in winmap_ERA5.keys():\n",
    "    if 0 in winmap_ERA5[node]:\n",
    "        print(node)"
   ]
  },
  {
   "cell_type": "code",
   "execution_count": 92,
   "metadata": {},
   "outputs": [
    {
     "data": {
      "text/plain": [
       "(0.4762244053824069, 0.0)"
      ]
     },
     "execution_count": 92,
     "metadata": {},
     "output_type": "execute_result"
    }
   ],
   "source": [
    "stats.pearsonr(data_ERA5[2], data_ERA5[3])"
   ]
  },
  {
   "cell_type": "code",
   "execution_count": 108,
   "metadata": {},
   "outputs": [],
   "source": [
    "with open('test_day_list.txt', 'w') as f:\n",
    "    for node in sorted(winmap_ERA5.keys()):\n",
    "        node_num = str(node)\n",
    "        item = str(winmap_ERA5[node])\n",
    "        f.write(\"%s\\n\\n\" % item)"
   ]
  },
  {
   "cell_type": "code",
   "execution_count": 115,
   "metadata": {},
   "outputs": [],
   "source": [
    "with open('test_day_list.txt', 'w') as f:\n",
    "    for item in sorted(winmap_ERA5.items()):\n",
    "        item = str(item)[1:-1]\n",
    "        f.write(\"%s\\n\\n\" % item)"
   ]
  },
  {
   "cell_type": "code",
   "execution_count": 109,
   "metadata": {},
   "outputs": [
    {
     "name": "stdout",
     "output_type": "stream",
     "text": [
      "((0, 0), [22, 25, 26, 65, 73, 84, 89, 90, 103, 104, 105, 116, 117, 144, 180, 200, 264, 271, 285, 307, 333, 390, 413, 420, 421, 457, 479, 482, 483, 484, 491, 500, 510, 518, 521, 527, 550, 570, 580, 582, 585, 614, 672, 698, 704, 727, 740, 751, 752, 762, 763, 794, 795, 796, 809, 816, 822, 827, 828, 829, 834, 853, 865, 872, 893, 894, 932, 935, 936, 939, 940, 945, 946, 948, 956, 964, 970, 991, 1017, 1031, 1038, 1053, 1060, 1061, 1067, 1086, 1097, 1099, 1140, 1146, 1160, 1166, 1234, 1248, 1249, 1250, 1253, 1307, 1312, 1395, 1396, 1397, 1398, 1399, 1400, 1401, 1420, 1427, 1428, 1429, 1430, 1441, 1442, 1496, 1497, 1501, 1532, 1533, 1538, 1624, 1636, 1662, 1668, 1682, 1683, 1713, 1718, 1721, 1722, 1724, 1736, 1749, 1762, 1763, 1786, 1787, 1788, 1789, 1791, 1902, 1928, 1930, 1965, 1966, 1992, 1996, 2010, 2015, 2055, 2090, 2133, 2149, 2155, 2156, 2242, 2254, 2284, 2315, 2380, 2387, 2394, 2408, 2433, 2440, 2454, 2458, 2462, 2468, 2474, 2480, 2486, 2507, 2508, 2509, 2551, 2562, 2620, 2624, 2643, 2663, 2664, 2668, 2691, 2692, 2695, 2700, 2704, 2706, 2737, 2742, 2748, 2763, 2764, 2795, 2832, 2859, 2879, 2891, 2932, 2942, 2965, 2968, 2975, 2989, 3030, 3031, 3080, 3104, 3105, 3106, 3107, 3114, 3123, 3124, 3125, 3126, 3127, 3148, 3149, 3171, 3210, 3215, 3225, 3253, 3262, 3268, 3285, 3286, 3331, 3343, 3350, 3413, 3434, 3435, 3460, 3492, 3493, 3502, 3552, 3558, 3559, 3616, 3617, 3662, 3663, 3668, 3677, 3691, 3750, 3760, 3778, 3779, 3780, 3781, 3782, 3787, 3803, 3804, 3805, 3806, 3827, 3834, 3838, 3842, 3892, 3893, 3894, 3910, 3916, 3951, 3958, 3969, 3996, 4009, 4012, 4066, 4067, 4100, 4106, 4111, 4122, 4141, 4145, 4181, 4188, 4194, 4209, 4224, 4232, 4238, 4253, 4254, 4281, 4311, 4312, 4313, 4318, 4319, 4330, 4331, 4339, 4347, 4357, 4358, 4372, 4373, 4386, 4387, 4394, 4412, 4421, 4426, 4427, 4432, 4437, 4438, 4446, 4457, 4470, 4477, 4485, 4486, 4506, 4507, 4508, 4624, 4644, 4645, 4727, 4747, 4748, 4749, 4847, 4869, 4875, 4910, 4941, 4959, 5055, 5056, 5057, 5073, 5128, 5139, 5140, 5170, 5171, 5181, 5183, 5197, 5250, 5273, 5274, 5284, 5315, 5335, 5344, 5366, 5413, 5474, 5532, 5539, 5544, 5545, 5583, 5588, 5595, 5648, 5653, 5659, 5660, 5671, 5672, 5673, 5674, 5710, 5721, 5726, 5760, 5817, 5856, 5864, 5875, 5960, 5990, 6045, 6048, 6073, 6095, 6148, 6163, 6168, 6198, 6202, 6292, 6293, 6309, 6322, 6338, 6342, 6358, 6359, 6394, 6422, 6455, 6487, 6493, 6495, 6503, 6522, 6538, 6559, 6562, 6573, 6590, 6600, 6624, 6628, 6629, 6669, 6672, 6737, 6738, 6742, 6776, 6803, 6809, 6810, 6822, 6828, 6848, 6859, 6864, 6875, 6885, 6890, 6906, 6907, 6934, 6935, 6940, 6954, 7007, 7008, 7023, 7034, 7061, 7062, 7140, 7141, 7142, 7146, 7147, 7158, 7202, 7208, 7216, 7229, 7230, 7233, 7234, 7237, 7269, 7276, 7291, 7292, 7319, 7322, 7323, 7334, 7367, 7368, 7412, 7413, 7419, 7420, 7421, 7474, 7475, 7476, 7495, 7496, 7510, 7542, 7577, 7647, 7657, 7658, 7659, 7738, 7739, 7750, 7774, 7795, 7838, 7839, 7846, 7847, 7937, 7938, 7939, 7953, 7954, 8007, 8014, 8017, 8044, 8058, 8072, 8082, 8084, 8085, 8098, 8105, 8110, 8129, 8130, 8137, 8211, 8243, 8254, 8262, 8282, 8323, 8346, 8368, 8375, 8390, 8391, 8436, 8476, 8477, 8505, 8506, 8507, 8518, 8623, 8624, 8629, 8693, 8697, 8714, 8715, 8728, 8740, 8741, 8743, 8748, 8749, 8750, 8754, 8755, 8766, 8772, 8791, 8811, 8812, 8849, 8879, 8969, 8970, 8975, 8976, 8988, 9021, 9022, 9023, 9040, 9091, 9094, 9095, 9096, 9118, 9122, 9144, 9160, 9256, 9286, 9322, 9348, 9349, 9392, 9393, 9405, 9406, 9427, 9432, 9450, 9451, 9457, 9458, 9470, 9476, 9484, 9491, 9506, 9530, 9536, 9542, 9589, 9590, 9591, 9619, 9657, 9658, 9659, 9660, 9664, 9665, 9669, 9700, 9709, 9728, 9729])\n",
      "((0, 1), [7, 8, 11, 17, 51, 52, 53, 68, 72, 77, 80, 86, 88, 93, 94, 98, 99, 102, 132, 134, 136, 137, 138, 145, 169, 170, 179, 197, 206, 222, 270, 276, 297, 338, 357, 368, 380, 382, 389, 394, 445, 452, 453, 456, 478, 487, 490, 493, 494, 520, 534, 562, 566, 567, 597, 602, 633, 634, 636, 637, 638, 647, 648, 650, 667, 671, 681, 692, 697, 699, 703, 714, 723, 724, 761, 815, 824, 825, 826, 833, 852, 864, 869, 870, 871, 892, 931, 933, 947, 953, 963, 969, 997, 1016, 1023, 1030, 1037, 1052, 1059, 1072, 1084, 1085, 1094, 1096, 1100, 1101, 1114, 1115, 1116, 1139, 1141, 1144, 1145, 1147, 1153, 1174, 1183, 1188, 1199, 1208, 1218, 1247, 1272, 1280, 1306, 1311, 1349, 1350, 1351, 1357, 1382, 1383, 1421, 1426, 1440, 1460, 1495, 1508, 1509, 1529, 1530, 1531, 1537, 1570, 1597, 1598, 1616, 1623, 1635, 1647, 1648, 1658, 1659, 1660, 1665, 1666, 1667, 1673, 1681, 1712, 1719, 1720, 1779, 1780, 1785, 1805, 1806, 1807, 1826, 1901, 1910, 1924, 1929, 1935, 1936, 1941, 1943, 1963, 1964, 1995, 2009, 2017, 2018, 2038, 2039, 2040, 2059, 2060, 2076, 2089, 2099, 2132, 2139, 2145, 2148, 2183, 2187, 2190, 2193, 2196, 2198, 2220, 2241, 2252, 2253, 2263, 2264, 2278, 2279, 2283, 2342, 2347, 2357, 2378, 2379, 2386, 2399, 2431, 2432, 2437, 2438, 2439, 2453, 2457, 2463, 2466, 2467, 2473, 2479, 2522, 2550, 2552, 2555, 2557, 2565, 2566, 2573, 2579, 2593, 2605, 2648, 2666, 2667, 2687, 2699, 2703, 2705, 2720, 2725, 2726, 2736, 2741, 2757, 2758, 2774, 2775, 2780, 2781, 2793, 2794, 2796, 2799, 2800, 2801, 2811, 2821, 2822, 2831, 2853, 2854, 2876, 2877, 2878, 2888, 2889, 2890, 2901, 2911, 2928, 2931, 2937, 2941, 2967, 2973, 2974, 2985, 2988, 2997, 3028, 3029, 3079, 3103, 3122, 3147, 3152, 3168, 3170, 3175, 3205, 3224, 3252, 3261, 3267, 3273, 3278, 3284, 3287, 3307, 3330, 3332, 3333, 3334, 3358, 3359, 3360, 3379, 3388, 3423, 3433, 3442, 3446, 3447, 3448, 3474, 3486, 3489, 3501, 3509, 3511, 3540, 3541, 3576, 3593, 3609, 3615, 3655, 3667, 3690, 3696, 3715, 3728, 3748, 3749, 3751, 3757, 3758, 3759, 3761, 3777, 3783, 3786, 3801, 3802, 3813, 3822, 3826, 3833, 3858, 3879, 3918, 3942, 3950, 3977, 3997, 4003, 4040, 4041, 4061, 4064, 4065, 4068, 4069, 4074, 4076, 4082, 4099, 4105, 4110, 4117, 4121, 4144, 4151, 4158, 4160, 4193, 4195, 4197, 4198, 4208, 4223, 4231, 4237, 4256, 4258, 4275, 4282, 4300, 4346, 4351, 4356, 4369, 4370, 4371, 4385, 4391, 4400, 4401, 4420, 4436, 4445, 4455, 4456, 4469, 4476, 4483, 4484, 4487, 4525, 4563, 4571, 4575, 4598, 4635, 4639, 4640, 4643, 4655, 4656, 4716, 4721, 4722, 4726, 4739, 4746, 4782, 4826, 4827, 4839, 4846, 4854, 4868, 4874, 4909, 4944, 4958, 4995, 4998, 5010, 5011, 5054, 5061, 5064, 5089, 5094, 5127, 5156, 5165, 5179, 5180, 5182, 5211, 5249, 5265, 5272, 5283, 5314, 5316, 5318, 5319, 5320, 5321, 5334, 5338, 5371, 5372, 5373, 5376, 5403, 5426, 5427, 5431, 5436, 5441, 5450, 5473, 5475, 5481, 5489, 5506, 5507, 5522, 5528, 5531, 5587, 5629, 5632, 5641, 5647, 5655, 5658, 5682, 5689, 5691, 5692, 5709, 5720, 5722, 5725, 5782, 5795, 5800, 5803, 5804, 5816, 5823, 5836, 5843, 5855, 5863, 5874, 5880, 5889, 5892, 5903, 5904, 5950, 5951, 5987, 5989, 6008, 6009, 6014, 6020, 6021, 6022, 6023, 6024, 6041, 6044, 6051, 6058, 6060, 6072, 6088, 6127, 6134, 6166, 6171, 6172, 6183, 6201, 6279, 6290, 6291, 6297, 6298, 6327, 6341, 6354, 6378, 6393, 6397, 6404, 6454, 6471, 6492, 6494, 6497, 6507, 6537, 6568, 6574, 6575, 6589, 6595, 6619, 6659, 6684, 6734, 6735, 6736, 6741, 6771, 6775, 6795, 6802, 6808, 6821, 6827, 6840, 6842, 6847, 6854, 6874, 6913, 6933, 6939, 6946, 6947, 6955, 7006, 7033, 7044, 7048, 7052, 7059, 7083, 7097, 7104, 7113, 7129, 7139, 7145, 7150, 7155, 7178, 7181, 7183, 7184, 7201, 7210, 7211, 7213, 7215, 7228, 7232, 7235, 7236, 7275, 7280, 7290, 7314, 7318, 7366, 7382, 7391, 7395, 7411, 7418, 7438, 7503, 7505, 7509, 7540, 7541, 7573, 7593, 7600, 7609, 7623, 7626, 7635, 7642, 7646, 7651, 7656, 7662, 7680, 7685, 7686, 7687, 7737, 7745, 7758, 7759, 7773, 7775, 7794, 7801, 7805, 7807, 7810, 7829, 7833, 7837, 7845, 7877, 7878, 8005, 8006, 8013, 8025, 8029, 8041, 8042, 8043, 8070, 8071, 8080, 8081, 8128, 8132, 8136, 8170, 8185, 8195, 8196, 8210, 8227, 8244, 8245, 8246, 8249, 8261, 8276, 8284, 8304, 8306, 8322, 8341, 8358, 8365, 8367, 8389, 8400, 8401, 8425, 8435, 8450, 8469, 8511, 8517, 8546, 8561, 8577, 8583, 8692, 8695, 8696, 8698, 8708, 8727, 8742, 8753, 8756, 8765, 8783, 8789, 8790, 8803, 8826, 8827, 8830, 8831, 8832, 8833, 8841, 8843, 8844, 8848, 8875, 8876, 8878, 8968, 8974, 8982, 8987, 9002, 9003, 9004, 9026, 9039, 9050, 9055, 9056, 9061, 9090, 9116, 9117, 9119, 9121, 9149, 9159, 9161, 9201, 9218, 9233, 9236, 9255, 9266, 9279, 9285, 9300, 9304, 9332, 9337, 9394, 9404, 9408, 9409, 9410, 9426, 9431, 9433, 9438, 9456, 9469, 9475, 9483, 9487, 9488, 9490, 9510, 9534, 9535, 9538, 9539, 9560, 9561, 9576, 9585, 9588, 9595, 9602, 9616, 9617, 9618, 9626, 9636, 9637, 9663, 9666, 9667, 9668, 9691, 9695, 9696, 9708, 9715])\n",
      "((0, 2), [13, 16, 46, 50, 64, 67, 83, 87, 133, 167, 168, 214, 250, 269, 296, 332, 334, 381, 387, 388, 399, 404, 407, 412, 425, 477, 489, 505, 506, 517, 533, 557, 558, 559, 560, 561, 563, 579, 590, 592, 593, 596, 613, 619, 620, 621, 635, 640, 643, 645, 646, 666, 668, 669, 670, 687, 688, 689, 690, 700, 713, 721, 722, 726, 759, 781, 792, 793, 849, 850, 851, 857, 868, 885, 896, 900, 901, 930, 934, 938, 944, 952, 982, 996, 1014, 1015, 1019, 1020, 1022, 1066, 1090, 1091, 1092, 1119, 1130, 1142, 1143, 1165, 1181, 1182, 1197, 1198, 1206, 1207, 1210, 1233, 1244, 1277, 1296, 1304, 1329, 1330, 1333, 1334, 1348, 1367, 1368, 1380, 1381, 1391, 1408, 1409, 1415, 1481, 1507, 1511, 1553, 1554, 1578, 1585, 1586, 1587, 1588, 1595, 1622, 1646, 1664, 1680, 1709, 1717, 1732, 1735, 1758, 1761, 1778, 1841, 1842, 1843, 1848, 1893, 1900, 1908, 1921, 1923, 1938, 1942, 1946, 1958, 1962, 1991, 1994, 1999, 2008, 2014, 2031, 2037, 2042, 2054, 2075, 2096, 2141, 2147, 2154, 2178, 2182, 2189, 2191, 2192, 2197, 2214, 2219, 2221, 2222, 2269, 2282, 2307, 2327, 2328, 2329, 2334, 2335, 2336, 2346, 2356, 2377, 2385, 2397, 2456, 2460, 2461, 2464, 2506, 2521, 2553, 2556, 2561, 2572, 2578, 2586, 2600, 2601, 2604, 2619, 2637, 2640, 2657, 2660, 2661, 2665, 2690, 2724, 2735, 2747, 2752, 2755, 2756, 2773, 2777, 2791, 2792, 2812, 2813, 2826, 2827, 2849, 2850, 2851, 2852, 2855, 2856, 2875, 2897, 2926, 2927, 2964, 2983, 2984, 2987, 2996, 3008, 3085, 3086, 3121, 3136, 3141, 3145, 3146, 3151, 3153, 3154, 3184, 3186, 3204, 3209, 3214, 3219, 3238, 3260, 3272, 3277, 3288, 3290, 3291, 3292, 3306, 3315, 3322, 3349, 3357, 3378, 3384, 3407, 3412, 3431, 3432, 3457, 3459, 3485, 3488, 3491, 3506, 3510, 3520, 3521, 3522, 3563, 3564, 3565, 3572, 3573, 3575, 3590, 3597, 3608, 3621, 3622, 3660, 3661, 3666, 3676, 3694, 3707, 3713, 3714, 3730, 3733, 3734, 3755, 3756, 3776, 3785, 3796, 3797, 3823, 3831, 3841, 3862, 3863, 3864, 3866, 3869, 3878, 3908, 3909, 3915, 3921, 3931, 3933, 3943, 3944, 3945, 3946, 3957, 3966, 3976, 3982, 3995, 4001, 4002, 4004, 4008, 4011, 4033, 4036, 4039, 4060, 4070, 4073, 4098, 4104, 4115, 4116, 4127, 4128, 4131, 4132, 4133, 4138, 4139, 4140, 4168, 4171, 4199, 4222, 4230, 4274, 4280, 4290, 4291, 4345, 4350, 4425, 4435, 4454, 4466, 4482, 4494, 4495, 4521, 4522, 4523, 4524, 4532, 4533, 4545, 4559, 4562, 4570, 4580, 4597, 4609, 4610, 4623, 4630, 4634, 4638, 4642, 4650, 4651, 4660, 4661, 4679, 4680, 4686, 4698, 4712, 4713, 4714, 4715, 4717, 4733, 4734, 4738, 4752, 4759, 4780, 4781, 4837, 4838, 4845, 4887, 4906, 4934, 4940, 4975, 4976, 4994, 4997, 5003, 5012, 5013, 5019, 5020, 5021, 5022, 5050, 5122, 5123, 5138, 5155, 5202, 5210, 5235, 5271, 5282, 5317, 5322, 5328, 5332, 5336, 5343, 5357, 5362, 5369, 5425, 5435, 5440, 5472, 5542, 5543, 5581, 5582, 5594, 5628, 5666, 5701, 5703, 5715, 5719, 5723, 5724, 5731, 5776, 5792, 5793, 5794, 5799, 5815, 5829, 5835, 5854, 5862, 5899, 5982, 5983, 5984, 5985, 5986, 5988, 5991, 6012, 6013, 6015, 6016, 6050, 6056, 6057, 6059, 6089, 6126, 6128, 6170, 6177, 6178, 6182, 6210, 6238, 6268, 6269, 6270, 6308, 6326, 6329, 6333, 6337, 6340, 6357, 6371, 6372, 6392, 6395, 6403, 6417, 6421, 6430, 6431, 6444, 6445, 6472, 6491, 6502, 6506, 6517, 6553, 6558, 6565, 6611, 6623, 6627, 6683, 6692, 6693, 6694, 6710, 6722, 6723, 6727, 6733, 6740, 6761, 6770, 6787, 6820, 6845, 6846, 6863, 6867, 6873, 6898, 6911, 6912, 6919, 6927, 6945, 6956, 6969, 6999, 7000, 7005, 7027, 7032, 7037, 7038, 7058, 7060, 7064, 7065, 7103, 7144, 7188, 7207, 7212, 7227, 7251, 7252, 7281, 7317, 7321, 7333, 7365, 7388, 7390, 7392, 7417, 7425, 7472, 7473, 7490, 7504, 7539, 7595, 7596, 7598, 7599, 7608, 7634, 7638, 7639, 7649, 7650, 7661, 7670, 7671, 7672, 7673, 7681, 7682, 7683, 7684, 7689, 7701, 7718, 7731, 7736, 7742, 7749, 7790, 7804, 7806, 7808, 7809, 7830, 7836, 7864, 7865, 7867, 7874, 7903, 7906, 7907, 7929, 7930, 7933, 7958, 7959, 7960, 7961, 8012, 8016, 8066, 8069, 8077, 8097, 8125, 8126, 8133, 8148, 8167, 8168, 8169, 8180, 8181, 8182, 8184, 8190, 8194, 8225, 8226, 8259, 8260, 8275, 8281, 8283, 8302, 8303, 8321, 8357, 8361, 8363, 8364, 8385, 8387, 8388, 8398, 8402, 8423, 8424, 8434, 8449, 8483, 8497, 8498, 8509, 8553, 8566, 8606, 8628, 8641, 8642, 8643, 8644, 8645, 8689, 8707, 8713, 8726, 8736, 8737, 8764, 8782, 8787, 8788, 8816, 8840, 8872, 8873, 8874, 8877, 8887, 8888, 8905, 8906, 8913, 8914, 8915, 8926, 8927, 8928, 8957, 8958, 8962, 8973, 9001, 9019, 9020, 9038, 9049, 9051, 9053, 9059, 9086, 9087, 9088, 9089, 9093, 9100, 9131, 9138, 9139, 9140, 9141, 9147, 9148, 9184, 9185, 9189, 9230, 9234, 9235, 9264, 9347, 9383, 9395, 9425, 9430, 9449, 9486, 9499, 9505, 9521, 9522, 9523, 9532, 9533, 9541, 9555, 9556, 9584, 9615, 9624, 9625, 9627, 9628, 9629, 9635, 9644, 9648, 9649, 9653, 9689, 9699, 9724, 9725])\n",
      "((0, 3), [10, 15, 76, 79, 150, 151, 152, 196, 218, 219, 220, 221, 302, 303, 331, 337, 342, 345, 356, 400, 401, 408, 409, 507, 508, 509, 516, 526, 564, 565, 576, 577, 639, 644, 680, 695, 701, 702, 709, 725, 884, 1048, 1093, 1131, 1150, 1151, 1152, 1157, 1200, 1201, 1202, 1203, 1205, 1213, 1214, 1215, 1217, 1269, 1270, 1271, 1279, 1283, 1284, 1287, 1289, 1303, 1305, 1326, 1327, 1328, 1376, 1377, 1378, 1379, 1385, 1386, 1411, 1412, 1413, 1414, 1416, 1417, 1418, 1424, 1425, 1439, 1476, 1492, 1493, 1494, 1528, 1576, 1577, 1580, 1596, 1612, 1613, 1614, 1615, 1649, 1650, 1679, 1760, 1844, 1849, 1850, 1851, 1852, 1887, 1888, 1909, 1933, 1934, 1939, 1940, 1976, 1977, 1978, 1979, 2030, 2034, 2035, 2097, 2098, 2138, 2144, 2179, 2181, 2185, 2186, 2195, 2201, 2202, 2215, 2216, 2218, 2223, 2234, 2235, 2236, 2266, 2275, 2276, 2277, 2340, 2341, 2436, 2448, 2449, 2450, 2451, 2452, 2465, 2472, 2477, 2478, 2485, 2500, 2502, 2503, 2504, 2505, 2547, 2548, 2549, 2568, 2569, 2587, 2588, 2590, 2591, 2592, 2617, 2618, 2635, 2636, 2641, 2642, 2662, 2673, 2674, 2675, 2681, 2682, 2686, 2761, 2762, 2778, 2779, 2818, 2819, 2820, 2823, 2824, 2825, 2872, 2873, 2874, 2887, 2895, 2896, 2899, 2900, 2908, 2910, 3026, 3051, 3111, 3112, 3113, 3161, 3162, 3163, 3165, 3166, 3167, 3183, 3445, 3455, 3456, 3505, 3507, 3508, 3523, 3524, 3574, 3591, 3592, 3596, 3600, 3601, 3602, 3607, 3624, 3625, 3695, 3706, 3720, 3721, 3792, 3793, 3832, 3837, 3875, 3948, 3949, 4005, 4022, 4030, 4031, 4032, 4037, 4038, 4071, 4081, 4090, 4091, 4092, 4157, 4163, 4185, 4186, 4187, 4196, 4220, 4293, 4294, 4295, 4296, 4298, 4299, 4381, 4382, 4383, 4384, 4464, 4465, 4467, 4468, 4513, 4514, 4530, 4534, 4535, 4536, 4546, 4547, 4548, 4590, 4591, 4594, 4595, 4596, 4612, 4649, 4658, 4659, 4663, 4664, 4689, 4720, 4735, 4758, 4836, 4866, 4867, 4914, 4918, 4919, 4920, 4921, 4922, 4925, 4931, 4932, 4933, 4993, 5004, 5039, 5049, 5091, 5137, 5148, 5149, 5153, 5154, 5164, 5205, 5206, 5207, 5208, 5209, 5219, 5220, 5221, 5222, 5269, 5270, 5292, 5293, 5325, 5326, 5327, 5333, 5337, 5374, 5375, 5380, 5381, 5382, 5383, 5402, 5419, 5420, 5428, 5429, 5430, 5449, 5457, 5458, 5459, 5460, 5461, 5462, 5463, 5469, 5470, 5478, 5479, 5480, 5483, 5484, 5488, 5504, 5505, 5623, 5640, 5688, 5700, 5704, 5705, 5777, 5778, 5779, 5780, 5781, 5788, 5789, 5834, 5839, 5840, 5841, 5842, 5898, 5900, 5901, 5902, 5922, 5923, 5924, 5925, 5926, 5947, 5948, 5958, 5959, 5970, 5971, 5972, 5981, 6018, 6019, 6081, 6082, 6083, 6084, 6085, 6086, 6087, 6092, 6093, 6094, 6119, 6120, 6125, 6133, 6234, 6235, 6236, 6237, 6276, 6277, 6344, 6345, 6353, 6396, 6414, 6415, 6473, 6474, 6534, 6535, 6536, 6548, 6554, 6557, 6566, 6567, 6572, 6579, 6580, 6581, 6582, 6583, 6641, 6648, 6649, 6650, 6651, 6652, 6653, 6654, 6655, 6656, 6658, 6681, 6682, 6711, 6721, 6724, 6725, 6726, 6781, 6782, 6788, 6789, 6790, 6791, 6816, 6817, 6818, 6819, 6839, 6858, 6888, 6889, 6901, 6902, 6926, 6957, 6958, 6962, 6968, 6974, 6975, 6976, 6978, 7039, 7041, 7042, 7043, 7047, 7050, 7051, 7078, 7082, 7093, 7095, 7096, 7112, 7120, 7121, 7122, 7123, 7124, 7137, 7138, 7169, 7170, 7171, 7172, 7175, 7214, 7218, 7245, 7389, 7393, 7394, 7429, 7430, 7431, 7440, 7441, 7442, 7501, 7502, 7589, 7590, 7592, 7617, 7621, 7622, 7640, 7641, 7653, 7654, 7655, 7690, 7691, 7692, 7699, 7700, 7729, 7730, 7743, 7756, 7757, 7766, 7767, 7768, 7772, 7800, 7815, 7843, 7844, 7851, 7852, 7855, 7856, 7861, 7862, 7863, 7866, 7889, 7890, 7891, 7905, 7908, 7931, 7932, 7949, 7950, 7977, 7978, 7999, 8000, 8011, 8028, 8036, 8037, 8038, 8039, 8040, 8055, 8056, 8057, 8096, 8127, 8134, 8135, 8176, 8177, 8178, 8179, 8183, 8209, 8214, 8215, 8216, 8231, 8374, 8399, 8403, 8456, 8457, 8475, 8488, 8510, 8516, 8576, 8610, 8612, 8613, 8617, 8640, 8649, 8650, 8651, 8658, 8659, 8660, 8687, 8688, 8700, 8701, 8702, 8712, 8722, 8723, 8738, 8739, 8746, 8747, 8751, 8752, 8807, 8808, 8824, 8825, 8829, 8847, 8859, 8864, 8903, 8904, 8924, 8925, 8941, 8942, 8981, 8986, 8993, 8994, 8995, 8996, 9011, 9012, 9013, 9016, 9017, 9018, 9043, 9052, 9060, 9066, 9067, 9084, 9085, 9101, 9106, 9120, 9137, 9154, 9155, 9158, 9166, 9173, 9174, 9188, 9217, 9231, 9232, 9254, 9265, 9270, 9289, 9290, 9291, 9292, 9293, 9294, 9295, 9296, 9297, 9298, 9299, 9302, 9303, 9329, 9330, 9331, 9346, 9365, 9366, 9367, 9397, 9398, 9399, 9400, 9401, 9402, 9403, 9482, 9489, 9493, 9494, 9509, 9524, 9525, 9528, 9529, 9540, 9558, 9559, 9594, 9606, 9607, 9608, 9630, 9631, 9632, 9633, 9634, 9639, 9640, 9641, 9690, 9697, 9698, 9727])\n",
      "((1, 0), [23, 27, 47, 69, 70, 81, 91, 95, 100, 118, 121, 141, 146, 154, 171, 198, 201, 207, 210, 277, 283, 286, 298, 305, 308, 310, 321, 324, 325, 358, 374, 375, 383, 458, 470, 481, 503, 535, 551, 552, 553, 571, 586, 603, 651, 652, 673, 705, 728, 753, 767, 771, 777, 789, 797, 804, 805, 806, 807, 808, 810, 821, 823, 830, 835, 843, 866, 873, 879, 880, 881, 904, 922, 926, 927, 941, 954, 955, 957, 971, 983, 998, 1000, 1024, 1025, 1026, 1027, 1028, 1039, 1055, 1058, 1068, 1077, 1078, 1087, 1098, 1175, 1184, 1186, 1231, 1235, 1241, 1242, 1245, 1254, 1259, 1298, 1299, 1308, 1313, 1322, 1369, 1402, 1406, 1498, 1499, 1500, 1502, 1534, 1535, 1539, 1571, 1599, 1625, 1637, 1674, 1684, 1696, 1697, 1723, 1725, 1728, 1750, 1751, 1756, 1757, 1790, 1792, 1808, 1825, 1913, 1914, 1926, 1927, 1955, 1967, 1970, 1997, 2019, 2024, 2056, 2061, 2063, 2091, 2121, 2134, 2157, 2170, 2248, 2249, 2255, 2280, 2289, 2295, 2311, 2324, 2371, 2372, 2381, 2400, 2410, 2413, 2414, 2419, 2420, 2421, 2434, 2441, 2487, 2525, 2529, 2558, 2563, 2581, 2582, 2594, 2595, 2596, 2597, 2606, 2607, 2669, 2688, 2696, 2697, 2721, 2738, 2743, 2749, 2750, 2753, 2765, 2788, 2789, 2829, 2860, 2881, 2929, 2933, 2955, 2969, 2976, 2998, 3001, 3066, 3069, 3074, 3075, 3100, 3101, 3108, 3115, 3128, 3129, 3142, 3172, 3206, 3216, 3226, 3254, 3269, 3295, 3301, 3314, 3323, 3344, 3351, 3372, 3380, 3389, 3395, 3397, 3409, 3419, 3436, 3461, 3467, 3475, 3553, 3560, 3579, 3580, 3588, 3589, 3656, 3664, 3678, 3692, 3716, 3739, 3762, 3763, 3770, 3772, 3788, 3807, 3814, 3820, 3828, 3859, 3860, 3880, 3911, 3919, 3923, 3925, 3938, 3953, 3959, 3968, 3970, 3998, 4013, 4034, 4051, 4062, 4077, 4083, 4096, 4107, 4112, 4123, 4142, 4152, 4161, 4189, 4239, 4247, 4248, 4249, 4255, 4257, 4259, 4314, 4320, 4329, 4332, 4340, 4348, 4352, 4359, 4360, 4374, 4388, 4395, 4402, 4413, 4422, 4428, 4429, 4430, 4433, 4439, 4447, 4458, 4478, 4488, 4509, 4564, 4565, 4625, 4631, 4671, 4681, 4695, 4728, 4750, 4789, 4790, 4791, 4806, 4829, 4830, 4848, 4855, 4952, 4960, 4980, 5058, 5065, 5067, 5074, 5095, 5129, 5172, 5184, 5198, 5199, 5251, 5254, 5266, 5285, 5358, 5365, 5390, 5404, 5414, 5490, 5533, 5540, 5546, 5549, 5564, 5569, 5577, 5584, 5596, 5597, 5605, 5630, 5633, 5636, 5649, 5654, 5656, 5657, 5675, 5683, 5711, 5716, 5746, 5773, 5774, 5775, 5796, 5801, 5805, 5821, 5865, 5883, 5884, 5893, 5894, 5914, 5937, 5940, 5941, 5942, 5961, 6003, 6004, 6049, 6061, 6074, 6140, 6154, 6155, 6157, 6158, 6164, 6169, 6173, 6179, 6199, 6232, 6233, 6239, 6240, 6241, 6255, 6294, 6299, 6310, 6343, 6355, 6360, 6367, 6398, 6405, 6423, 6456, 6488, 6496, 6498, 6523, 6560, 6576, 6591, 6601, 6602, 6612, 6625, 6630, 6668, 6670, 6673, 6743, 6772, 6796, 6811, 6823, 6824, 6829, 6830, 6841, 6849, 6855, 6860, 6868, 6876, 6878, 6886, 6914, 6930, 6941, 6942, 6943, 6948, 6949, 6950, 6952, 6953, 6988, 7002, 7009, 7024, 7035, 7045, 7084, 7105, 7143, 7148, 7151, 7159, 7165, 7203, 7204, 7209, 7222, 7231, 7262, 7267, 7270, 7271, 7277, 7285, 7293, 7294, 7298, 7315, 7328, 7338, 7351, 7369, 7378, 7383, 7396, 7414, 7497, 7506, 7511, 7526, 7527, 7559, 7566, 7574, 7578, 7579, 7597, 7627, 7631, 7636, 7674, 7704, 7705, 7710, 7719, 7751, 7760, 7780, 7796, 7811, 7834, 7880, 7913, 7955, 8008, 8015, 8022, 8023, 8026, 8059, 8073, 8086, 8099, 8106, 8111, 8131, 8159, 8186, 8197, 8198, 8199, 8200, 8201, 8212, 8236, 8255, 8269, 8270, 8273, 8277, 8285, 8298, 8299, 8307, 8328, 8342, 8347, 8348, 8369, 8376, 8392, 8393, 8406, 8437, 8470, 8478, 8508, 8538, 8547, 8562, 8570, 8571, 8625, 8630, 8631, 8632, 8668, 8669, 8678, 8694, 8744, 8767, 8773, 8792, 8804, 8836, 8842, 8850, 8881, 8916, 8917, 8971, 9005, 9006, 9007, 9024, 9027, 9028, 9047, 9057, 9097, 9123, 9125, 9133, 9145, 9146, 9176, 9179, 9180, 9220, 9221, 9227, 9228, 9267, 9309, 9323, 9338, 9341, 9391, 9421, 9428, 9439, 9452, 9459, 9471, 9511, 9586, 9596, 9603, 9611, 9612, 9620, 9654, 9694, 9713, 9716, 9730])\n",
      "((1, 1), [3, 6, 14, 28, 40, 54, 55, 60, 71, 85, 92, 114, 115, 131, 135, 142, 143, 153, 160, 161, 162, 174, 175, 190, 191, 192, 193, 199, 223, 282, 284, 295, 304, 306, 318, 367, 369, 373, 377, 378, 391, 392, 393, 395, 398, 402, 403, 422, 431, 444, 451, 459, 463, 468, 469, 473, 480, 485, 488, 499, 512, 519, 528, 536, 549, 568, 569, 581, 631, 632, 641, 642, 649, 686, 691, 710, 717, 729, 730, 732, 738, 739, 749, 750, 756, 758, 760, 766, 770, 776, 780, 783, 788, 791, 802, 803, 812, 832, 842, 846, 856, 867, 886, 895, 918, 919, 920, 921, 942, 979, 989, 990, 999, 1007, 1018, 1056, 1057, 1071, 1073, 1074, 1076, 1083, 1089, 1138, 1159, 1185, 1187, 1189, 1191, 1246, 1278, 1297, 1331, 1332, 1338, 1358, 1359, 1360, 1364, 1365, 1366, 1370, 1372, 1390, 1392, 1393, 1394, 1405, 1407, 1461, 1462, 1463, 1464, 1466, 1485, 1489, 1505, 1510, 1512, 1513, 1514, 1536, 1564, 1589, 1590, 1591, 1592, 1593, 1594, 1603, 1606, 1607, 1608, 1611, 1661, 1669, 1670, 1671, 1672, 1690, 1691, 1692, 1695, 1706, 1727, 1733, 1737, 1748, 1753, 1755, 1770, 1777, 1781, 1782, 1783, 1784, 1824, 1873, 1874, 1880, 1889, 1894, 1899, 1903, 1911, 1912, 1925, 1937, 1954, 1993, 2000, 2041, 2058, 2062, 2074, 2086, 2087, 2088, 2100, 2125, 2126, 2136, 2146, 2152, 2153, 2166, 2169, 2173, 2250, 2251, 2270, 2308, 2309, 2310, 2314, 2319, 2325, 2326, 2333, 2343, 2358, 2370, 2373, 2376, 2393, 2398, 2407, 2409, 2412, 2442, 2459, 2494, 2523, 2524, 2554, 2564, 2574, 2580, 2583, 2598, 2599, 2602, 2621, 2638, 2651, 2693, 2732, 2740, 2754, 2776, 2784, 2785, 2790, 2797, 2798, 2810, 2830, 2841, 2848, 2858, 2880, 2917, 2918, 2921, 2924, 2925, 2936, 2949, 2954, 2966, 2986, 3004, 3009, 3021, 3032, 3055, 3070, 3073, 3081, 3097, 3102, 3120, 3139, 3144, 3176, 3178, 3180, 3187, 3202, 3208, 3220, 3249, 3250, 3251, 3256, 3257, 3259, 3264, 3265, 3266, 3300, 3327, 3328, 3339, 3364, 3369, 3370, 3371, 3381, 3385, 3391, 3394, 3408, 3443, 3462, 3470, 3480, 3483, 3484, 3487, 3490, 3535, 3539, 3542, 3551, 3561, 3566, 3569, 3570, 3571, 3577, 3578, 3586, 3587, 3598, 3604, 3605, 3606, 3628, 3647, 3650, 3665, 3683, 3708, 3727, 3729, 3731, 3732, 3737, 3738, 3743, 3747, 3765, 3766, 3768, 3769, 3773, 3808, 3868, 3903, 3917, 3922, 3924, 3932, 3937, 3967, 3975, 3981, 3983, 3987, 4010, 4035, 4042, 4075, 4094, 4095, 4108, 4129, 4143, 4180, 4216, 4217, 4225, 4251, 4252, 4276, 4283, 4287, 4316, 4317, 4338, 4389, 4396, 4397, 4399, 4404, 4405, 4408, 4411, 4419, 4424, 4431, 4434, 4443, 4444, 4471, 4472, 4475, 4499, 4505, 4511, 4531, 4576, 4577, 4578, 4581, 4619, 4637, 4670, 4690, 4693, 4694, 4740, 4745, 4753, 4754, 4756, 4768, 4774, 4788, 4825, 4828, 4849, 4853, 4864, 4865, 4876, 4884, 4888, 4907, 4928, 4936, 4945, 4954, 4955, 4963, 4971, 4979, 4988, 4996, 4999, 5008, 5009, 5018, 5053, 5059, 5060, 5063, 5066, 5072, 5086, 5096, 5115, 5116, 5141, 5169, 5185, 5196, 5201, 5214, 5231, 5245, 5246, 5247, 5248, 5256, 5257, 5258, 5275, 5279, 5280, 5313, 5329, 5330, 5339, 5340, 5363, 5364, 5367, 5423, 5424, 5442, 5444, 5501, 5502, 5503, 5521, 5523, 5524, 5525, 5529, 5530, 5574, 5575, 5576, 5580, 5585, 5586, 5600, 5604, 5631, 5635, 5642, 5652, 5661, 5670, 5676, 5677, 5678, 5680, 5681, 5690, 5702, 5707, 5708, 5712, 5729, 5730, 5740, 5750, 5751, 5752, 5753, 5756, 5757, 5770, 5802, 5819, 5820, 5822, 5830, 5837, 5867, 5870, 5871, 5881, 5890, 5936, 5939, 5999, 6000, 6001, 6002, 6007, 6010, 6025, 6047, 6054, 6055, 6104, 6108, 6112, 6122, 6137, 6156, 6160, 6161, 6162, 6165, 6167, 6181, 6184, 6194, 6211, 6212, 6216, 6219, 6220, 6221, 6225, 6230, 6231, 6242, 6243, 6244, 6245, 6246, 6251, 6253, 6254, 6295, 6311, 6318, 6321, 6324, 6325, 6330, 6356, 6362, 6379, 6432, 6433, 6434, 6440, 6441, 6452, 6453, 6465, 6466, 6508, 6514, 6516, 6518, 6520, 6521, 6551, 6552, 6561, 6569, 6592, 6620, 6626, 6642, 6675, 6685, 6690, 6691, 6729, 6732, 6739, 6745, 6764, 6767, 6786, 6800, 6801, 6806, 6807, 6834, 6843, 6850, 6851, 6865, 6877, 6884, 6887, 6899, 6908, 6909, 6972, 6987, 7001, 7004, 7022, 7057, 7087, 7100, 7114, 7149, 7154, 7179, 7180, 7182, 7197, 7198, 7199, 7200, 7221, 7250, 7254, 7255, 7256, 7257, 7258, 7259, 7260, 7261, 7265, 7266, 7268, 7273, 7316, 7320, 7331, 7337, 7349, 7350, 7358, 7377, 7380, 7384, 7385, 7410, 7422, 7423, 7424, 7436, 7437, 7447, 7448, 7459, 7460, 7461, 7467, 7471, 7483, 7489, 7494, 7521, 7530, 7543, 7545, 7546, 7550, 7551, 7557, 7558, 7560, 7561, 7565, 7570, 7594, 7607, 7624, 7625, 7628, 7630, 7648, 7669, 7688, 7702, 7703, 7707, 7709, 7732, 7782, 7783, 7784, 7791, 7802, 7803, 7812, 7825, 7875, 7876, 7879, 7895, 7900, 7912, 7916, 7923, 7928, 7934, 7935, 7936, 7942, 7951, 7952, 7957, 7970, 7993, 8004, 8009, 8021, 8024, 8030, 8063, 8064, 8067, 8078, 8083, 8092, 8103, 8104, 8109, 8118, 8147, 8149, 8158, 8171, 8228, 8242, 8291, 8297, 8301, 8314, 8324, 8325, 8326, 8327, 8330, 8345, 8349, 8359, 8366, 8384, 8386, 8397, 8428, 8429, 8438, 8439, 8440, 8442, 8463, 8464, 8502, 8504, 8512, 8534, 8535, 8537, 8554, 8599, 8622, 8626, 8627, 8666, 8670, 8677, 8691, 8717, 8735, 8771, 8778, 8810, 8834, 8835, 8880, 8886, 8912, 8954, 8977, 8983, 8984, 9025, 9032, 9046, 9054, 9058, 9113, 9115, 9124, 9150, 9175, 9204, 9208, 9219, 9313, 9314, 9319, 9320, 9321, 9340, 9343, 9379, 9380, 9381, 9382, 9390, 9407, 9420, 9429, 9435, 9445, 9455, 9478, 9492, 9549, 9587, 9592, 9610, 9613, 9651, 9656, 9661, 9692, 9704, 9712, 9714, 9722, 9723])\n",
      "((1, 2), [9, 12, 18, 21, 29, 30, 39, 44, 66, 97, 140, 148, 166, 185, 186, 194, 205, 213, 215, 225, 231, 236, 263, 273, 275, 294, 300, 301, 335, 354, 355, 360, 363, 364, 386, 396, 405, 406, 411, 424, 429, 430, 434, 454, 455, 462, 486, 492, 514, 515, 529, 532, 537, 538, 548, 589, 591, 617, 618, 622, 623, 624, 625, 626, 627, 628, 629, 630, 656, 657, 665, 676, 677, 685, 731, 735, 736, 737, 744, 782, 819, 847, 848, 860, 862, 863, 887, 888, 889, 891, 898, 899, 903, 916, 943, 951, 977, 981, 985, 1006, 1013, 1021, 1045, 1046, 1051, 1105, 1113, 1120, 1128, 1129, 1133, 1134, 1135, 1149, 1154, 1155, 1163, 1164, 1171, 1173, 1180, 1196, 1209, 1226, 1227, 1252, 1257, 1258, 1268, 1281, 1288, 1290, 1292, 1295, 1342, 1343, 1347, 1352, 1371, 1375, 1389, 1422, 1423, 1436, 1437, 1438, 1478, 1482, 1484, 1527, 1552, 1558, 1568, 1581, 1604, 1605, 1609, 1610, 1619, 1633, 1634, 1653, 1689, 1694, 1708, 1710, 1711, 1716, 1738, 1746, 1747, 1754, 1759, 1769, 1812, 1816, 1823, 1833, 1834, 1836, 1840, 1868, 1869, 1870, 1872, 1884, 1892, 1907, 1922, 1949, 2013, 2032, 2033, 2095, 2113, 2114, 2115, 2116, 2137, 2140, 2142, 2158, 2184, 2194, 2199, 2205, 2207, 2208, 2209, 2212, 2213, 2233, 2240, 2262, 2265, 2272, 2273, 2298, 2303, 2306, 2330, 2331, 2332, 2345, 2352, 2353, 2355, 2367, 2368, 2369, 2383, 2384, 2392, 2430, 2443, 2444, 2455, 2469, 2470, 2471, 2476, 2483, 2497, 2546, 2570, 2571, 2577, 2584, 2585, 2603, 2622, 2623, 2633, 2634, 2656, 2658, 2659, 2694, 2719, 2729, 2730, 2731, 2746, 2751, 2759, 2760, 2782, 2783, 2809, 2828, 2871, 2898, 2902, 2914, 2916, 2930, 2940, 2944, 2948, 2952, 2953, 2960, 2961, 2962, 2963, 3007, 3016, 3019, 3020, 3027, 3041, 3050, 3052, 3078, 3087, 3110, 3119, 3135, 3138, 3140, 3150, 3155, 3173, 3177, 3181, 3185, 3191, 3196, 3197, 3203, 3223, 3246, 3247, 3248, 3283, 3313, 3316, 3318, 3329, 3356, 3368, 3382, 3383, 3387, 3392, 3418, 3422, 3441, 3444, 3458, 3465, 3466, 3471, 3472, 3473, 3519, 3533, 3538, 3550, 3555, 3556, 3594, 3599, 3603, 3614, 3630, 3631, 3632, 3633, 3634, 3635, 3638, 3639, 3645, 3646, 3648, 3649, 3657, 3675, 3702, 3703, 3723, 3724, 3725, 3735, 3736, 3742, 3754, 3775, 3784, 3800, 3809, 3810, 3811, 3812, 3817, 3818, 3819, 3824, 3825, 3830, 3840, 3857, 3865, 3867, 3877, 3891, 3906, 3912, 3913, 3920, 3947, 3965, 3980, 3986, 3994, 4000, 4016, 4017, 4050, 4058, 4059, 4093, 4109, 4118, 4119, 4120, 4126, 4134, 4156, 4159, 4167, 4169, 4170, 4174, 4179, 4206, 4207, 4219, 4221, 4264, 4286, 4289, 4344, 4367, 4368, 4390, 4392, 4393, 4481, 4496, 4512, 4526, 4540, 4541, 4558, 4560, 4561, 4572, 4586, 4599, 4618, 4636, 4641, 4646, 4657, 4662, 4669, 4678, 4697, 4699, 4704, 4705, 4708, 4709, 4723, 4741, 4742, 4751, 4757, 4775, 4779, 4786, 4787, 4805, 4818, 4822, 4824, 4841, 4844, 4908, 4927, 4930, 4935, 4939, 4943, 4951, 4956, 4957, 4962, 4970, 4972, 4974, 4987, 4989, 4990, 5002, 5014, 5023, 5032, 5033, 5037, 5038, 5043, 5044, 5045, 5047, 5048, 5052, 5087, 5088, 5119, 5120, 5121, 5124, 5125, 5126, 5135, 5136, 5146, 5162, 5163, 5168, 5234, 5244, 5259, 5260, 5263, 5264, 5281, 5305, 5306, 5307, 5310, 5331, 5361, 5370, 5377, 5389, 5392, 5398, 5401, 5407, 5408, 5412, 5418, 5437, 5439, 5456, 5464, 5471, 5496, 5497, 5499, 5500, 5508, 5510, 5511, 5512, 5513, 5514, 5515, 5537, 5538, 5548, 5552, 5558, 5566, 5567, 5568, 5603, 5615, 5616, 5624, 5626, 5644, 5646, 5662, 5665, 5667, 5668, 5669, 5679, 5706, 5713, 5714, 5732, 5733, 5754, 5755, 5758, 5759, 5767, 5771, 5798, 5807, 5811, 5833, 5852, 5873, 5879, 5891, 5913, 5916, 5935, 5957, 6011, 6027, 6028, 6040, 6042, 6043, 6052, 6053, 6102, 6103, 6107, 6109, 6111, 6113, 6121, 6129, 6135, 6136, 6147, 6176, 6192, 6193, 6200, 6213, 6247, 6250, 6252, 6304, 6317, 6328, 6334, 6336, 6348, 6349, 6366, 6370, 6376, 6377, 6380, 6381, 6384, 6385, 6386, 6400, 6402, 6411, 6418, 6420, 6435, 6436, 6437, 6438, 6439, 6443, 6446, 6470, 6477, 6485, 6486, 6501, 6513, 6519, 6531, 6543, 6550, 6618, 6621, 6622, 6636, 6637, 6660, 6671, 6678, 6689, 6709, 6728, 6755, 6768, 6793, 6794, 6798, 6799, 6805, 6833, 6837, 6844, 6856, 6862, 6866, 6900, 6903, 6910, 6918, 6920, 6921, 6922, 6923, 6924, 6925, 6928, 6932, 6938, 6959, 6967, 6971, 6973, 6985, 6998, 7054, 7056, 7077, 7080, 7098, 7099, 7128, 7157, 7164, 7168, 7177, 7191, 7196, 7220, 7226, 7238, 7253, 7274, 7282, 7289, 7297, 7312, 7313, 7325, 7327, 7330, 7332, 7381, 7439, 7443, 7449, 7457, 7458, 7480, 7488, 7493, 7508, 7520, 7531, 7532, 7544, 7556, 7571, 7572, 7605, 7612, 7629, 7637, 7644, 7645, 7660, 7708, 7728, 7735, 7741, 7754, 7792, 7793, 7817, 7828, 7831, 7832, 7835, 7868, 7869, 7870, 7873, 7894, 7901, 7910, 7911, 7924, 7945, 7946, 7976, 7989, 8003, 8020, 8065, 8068, 8079, 8117, 8124, 8141, 8146, 8157, 8164, 8165, 8187, 8188, 8189, 8191, 8207, 8230, 8241, 8305, 8318, 8319, 8320, 8331, 8338, 8340, 8344, 8351, 8352, 8362, 8419, 8420, 8421, 8430, 8431, 8432, 8433, 8448, 8482, 8496, 8499, 8500, 8501, 8529, 8531, 8533, 8536, 8542, 8549, 8567, 8582, 8595, 8597, 8598, 8604, 8605, 8607, 8614, 8671, 8672, 8673, 8674, 8676, 8680, 8690, 8703, 8706, 8716, 8734, 8777, 8781, 8802, 8817, 8818, 8820, 8845, 8846, 8854, 8863, 8868, 8869, 8898, 8902, 8908, 8909, 8910, 8911, 8929, 8967, 8972, 8998, 9033, 9092, 9112, 9130, 9132, 9136, 9143, 9191, 9198, 9200, 9210, 9229, 9237, 9252, 9276, 9301, 9308, 9328, 9336, 9351, 9352, 9373, 9374, 9434, 9437, 9468, 9474, 9479, 9481, 9485, 9519, 9546, 9547, 9548, 9554, 9569, 9598, 9601, 9604, 9605, 9614, 9638, 9645, 9646, 9647, 9650, 9652, 9662, 9673, 9674, 9679, 9680, 9705])\n",
      "((1, 3), [19, 20, 45, 75, 139, 149, 195, 217, 291, 292, 293, 330, 336, 341, 343, 344, 346, 347, 351, 352, 353, 361, 362, 410, 426, 427, 428, 541, 542, 556, 575, 578, 594, 612, 678, 679, 696, 861, 882, 883, 897, 902, 913, 914, 915, 1047, 1049, 1050, 1118, 1121, 1132, 1136, 1137, 1156, 1170, 1194, 1195, 1204, 1212, 1216, 1273, 1274, 1276, 1286, 1302, 1325, 1335, 1336, 1337, 1387, 1410, 1419, 1433, 1477, 1491, 1544, 1545, 1548, 1549, 1550, 1555, 1556, 1557, 1569, 1574, 1575, 1579, 1643, 1645, 1651, 1652, 1657, 1686, 1687, 1688, 1745, 1813, 1845, 1847, 1853, 1854, 1863, 1885, 1886, 1975, 1980, 2028, 2029, 2036, 2143, 2165, 2180, 2188, 2200, 2204, 2217, 2224, 2226, 2227, 2267, 2274, 2297, 2304, 2305, 2339, 2344, 2354, 2435, 2447, 2482, 2498, 2499, 2501, 2514, 2520, 2532, 2533, 2542, 2543, 2545, 2567, 2589, 2616, 2630, 2646, 2647, 2672, 2677, 2678, 2684, 2685, 2710, 2711, 2712, 2713, 2727, 2728, 2772, 2805, 2806, 2807, 2808, 2814, 2815, 2816, 2817, 2845, 2886, 2894, 2907, 2909, 2920, 2945, 2946, 2971, 2972, 2980, 2981, 2982, 3025, 3033, 3034, 3042, 3056, 3057, 3061, 3157, 3159, 3160, 3164, 3169, 3174, 3182, 3241, 3244, 3245, 3281, 3282, 3289, 3311, 3320, 3321, 3347, 3348, 3361, 3362, 3363, 3376, 3377, 3416, 3417, 3429, 3430, 3449, 3525, 3526, 3537, 3557, 3595, 3620, 3623, 3626, 3627, 3659, 3698, 3705, 3719, 3722, 3794, 3795, 3798, 3874, 3876, 3907, 3914, 3930, 4018, 4020, 4021, 4023, 4028, 4029, 4044, 4045, 4046, 4049, 4057, 4072, 4079, 4080, 4135, 4136, 4137, 4162, 4200, 4203, 4204, 4205, 4212, 4213, 4229, 4292, 4297, 4463, 4498, 4515, 4516, 4517, 4518, 4519, 4520, 4527, 4528, 4529, 4537, 4556, 4557, 4573, 4574, 4579, 4583, 4584, 4588, 4589, 4592, 4593, 4611, 4647, 4648, 4652, 4653, 4654, 4668, 4718, 4719, 4725, 4737, 4772, 4773, 4776, 4783, 4785, 4802, 4803, 4809, 4812, 4813, 4814, 4817, 4823, 4842, 4843, 4871, 4873, 4877, 4881, 4883, 4905, 4911, 4912, 4913, 4917, 4923, 4924, 4926, 4946, 4947, 4948, 4949, 4950, 4986, 4991, 4992, 5005, 5016, 5017, 5030, 5031, 5040, 5042, 5046, 5051, 5092, 5093, 5147, 5152, 5159, 5160, 5166, 5167, 5204, 5212, 5213, 5229, 5232, 5233, 5291, 5304, 5309, 5323, 5324, 5368, 5378, 5379, 5384, 5386, 5422, 5451, 5453, 5454, 5455, 5465, 5466, 5468, 5495, 5509, 5593, 5639, 5645, 5687, 5734, 5783, 5787, 5791, 5828, 5838, 5846, 5850, 5878, 5888, 5897, 5911, 5917, 5918, 5927, 5946, 5949, 5952, 5953, 5954, 5968, 5969, 5973, 5976, 5977, 5978, 5979, 5980, 5992, 5996, 5997, 5998, 6017, 6031, 6037, 6038, 6039, 6080, 6090, 6091, 6110, 6118, 6132, 6190, 6191, 6214, 6215, 6267, 6271, 6272, 6273, 6275, 6278, 6335, 6346, 6347, 6352, 6373, 6413, 6416, 6426, 6427, 6429, 6469, 6475, 6476, 6478, 6479, 6480, 6484, 6512, 6532, 6533, 6547, 6549, 6555, 6556, 6571, 6586, 6588, 6639, 6640, 6646, 6647, 6657, 6661, 6679, 6680, 6688, 6695, 6703, 6712, 6715, 6716, 6717, 6718, 6719, 6720, 6762, 6763, 6769, 6778, 6792, 6815, 6857, 6871, 6897, 6905, 6961, 6963, 6970, 6977, 6997, 7040, 7049, 7081, 7092, 7094, 7111, 7119, 7125, 7130, 7132, 7136, 7161, 7162, 7163, 7173, 7174, 7176, 7189, 7190, 7219, 7244, 7246, 7279, 7326, 7401, 7402, 7403, 7428, 7432, 7481, 7491, 7492, 7500, 7586, 7587, 7588, 7591, 7604, 7616, 7618, 7619, 7620, 7652, 7697, 7698, 7717, 7724, 7725, 7744, 7748, 7765, 7785, 7814, 7816, 7818, 7819, 7841, 7842, 7850, 7857, 7858, 7859, 7860, 7871, 7872, 7888, 7902, 7904, 7909, 7940, 7941, 7947, 7948, 7979, 7998, 8001, 8033, 8047, 8053, 8054, 8095, 8163, 8166, 8175, 8193, 8208, 8219, 8248, 8253, 8268, 8272, 8280, 8332, 8371, 8372, 8373, 8381, 8382, 8404, 8411, 8412, 8413, 8416, 8417, 8418, 8422, 8458, 8486, 8487, 8515, 8525, 8526, 8543, 8545, 8552, 8574, 8581, 8586, 8587, 8589, 8590, 8591, 8592, 8593, 8594, 8611, 8616, 8619, 8620, 8621, 8639, 8648, 8652, 8661, 8662, 8663, 8664, 8685, 8686, 8699, 8705, 8711, 8721, 8724, 8725, 8763, 8806, 8809, 8823, 8828, 8839, 8858, 8865, 8889, 8907, 8920, 8921, 8923, 8938, 8939, 8940, 8943, 8946, 8947, 8963, 8991, 8992, 8997, 9014, 9015, 9037, 9042, 9044, 9045, 9065, 9069, 9077, 9080, 9081, 9083, 9105, 9107, 9109, 9110, 9111, 9142, 9153, 9156, 9157, 9162, 9163, 9164, 9165, 9167, 9171, 9172, 9186, 9187, 9190, 9194, 9211, 9214, 9215, 9216, 9251, 9253, 9263, 9271, 9275, 9278, 9281, 9282, 9284, 9288, 9307, 9327, 9334, 9364, 9368, 9375, 9376, 9377, 9378, 9384, 9385, 9386, 9387, 9388, 9389, 9396, 9414, 9495, 9498, 9503, 9504, 9520, 9537, 9544, 9545, 9557, 9570, 9574, 9575, 9583, 9593, 9599, 9600, 9609, 9642, 9643, 9675, 9707, 9726])\n",
      "((2, 0), [1, 4, 5, 24, 41, 42, 48, 62, 101, 106, 119, 120, 122, 123, 124, 125, 126, 127, 128, 129, 130, 147, 155, 156, 177, 211, 212, 229, 230, 244, 251, 258, 259, 265, 267, 268, 272, 309, 316, 317, 319, 320, 322, 323, 326, 365, 366, 370, 371, 372, 379, 442, 443, 446, 447, 448, 449, 450, 471, 474, 497, 501, 502, 511, 539, 583, 587, 653, 654, 674, 711, 719, 741, 747, 754, 764, 768, 772, 775, 778, 784, 785, 786, 790, 798, 799, 800, 801, 811, 813, 814, 817, 820, 836, 837, 838, 839, 840, 844, 845, 854, 855, 905, 923, 924, 925, 928, 929, 937, 984, 1001, 1002, 1003, 1008, 1009, 1010, 1029, 1032, 1033, 1040, 1054, 1062, 1063, 1069, 1070, 1075, 1079, 1080, 1081, 1082, 1088, 1103, 1161, 1167, 1221, 1236, 1237, 1238, 1260, 1261, 1262, 1263, 1293, 1300, 1309, 1310, 1340, 1354, 1355, 1356, 1362, 1363, 1403, 1404, 1443, 1452, 1453, 1454, 1458, 1465, 1479, 1486, 1487, 1488, 1503, 1517, 1518, 1519, 1520, 1525, 1559, 1560, 1561, 1562, 1563, 1572, 1600, 1601, 1602, 1638, 1702, 1703, 1704, 1705, 1714, 1726, 1729, 1741, 1742, 1752, 1771, 1772, 1793, 1794, 1795, 1796, 1797, 1799, 1800, 1801, 1802, 1803, 1804, 1809, 1810, 1811, 1855, 1860, 1861, 1866, 1867, 1881, 1882, 1915, 1916, 1917, 1931, 1968, 1969, 1971, 1972, 1989, 1998, 2016, 2020, 2021, 2025, 2044, 2045, 2048, 2049, 2050, 2068, 2069, 2070, 2084, 2085, 2109, 2120, 2122, 2123, 2124, 2130, 2131, 2135, 2243, 2287, 2288, 2312, 2316, 2320, 2321, 2322, 2323, 2360, 2361, 2382, 2388, 2389, 2395, 2411, 2415, 2416, 2417, 2418, 2422, 2428, 2475, 2495, 2526, 2527, 2528, 2559, 2609, 2625, 2639, 2652, 2698, 2722, 2733, 2734, 2739, 2786, 2787, 2838, 2839, 2842, 2843, 2882, 2912, 2922, 2923, 2934, 2943, 2956, 2957, 2958, 2977, 2978, 2990, 2991, 2992, 3002, 3011, 3012, 3013, 3014, 3044, 3045, 3046, 3048, 3054, 3067, 3068, 3082, 3098, 3099, 3130, 3134, 3143, 3179, 3207, 3217, 3227, 3228, 3229, 3234, 3235, 3236, 3255, 3258, 3263, 3270, 3296, 3297, 3298, 3302, 3303, 3304, 3326, 3340, 3341, 3342, 3345, 3365, 3373, 3390, 3396, 3398, 3399, 3400, 3410, 3420, 3468, 3481, 3546, 3582, 3641, 3642, 3669, 3670, 3671, 3672, 3679, 3680, 3681, 3684, 3685, 3686, 3687, 3740, 3741, 3745, 3746, 3771, 3789, 3815, 3821, 3839, 3845, 3846, 3881, 3882, 3883, 3884, 3895, 3896, 3899, 3904, 3926, 3939, 3940, 3941, 3954, 3960, 3971, 3972, 3973, 3974, 3984, 3989, 3990, 3991, 3992, 4014, 4052, 4053, 4063, 4084, 4113, 4124, 4146, 4147, 4244, 4245, 4246, 4250, 4268, 4269, 4270, 4271, 4305, 4306, 4309, 4310, 4321, 4326, 4327, 4328, 4333, 4341, 4349, 4353, 4354, 4361, 4362, 4375, 4376, 4377, 4378, 4403, 4409, 4410, 4414, 4415, 4416, 4417, 4418, 4440, 4441, 4442, 4459, 4460, 4473, 4474, 4479, 4492, 4500, 4501, 4502, 4503, 4504, 4510, 4566, 4620, 4621, 4672, 4682, 4683, 4684, 4696, 4729, 4743, 4744, 4755, 4795, 4796, 4820, 4862, 4885, 4889, 4890, 4891, 4953, 5062, 5075, 5097, 5106, 5107, 5108, 5109, 5117, 5173, 5200, 5252, 5253, 5345, 5346, 5347, 5348, 5349, 5350, 5351, 5352, 5355, 5359, 5410, 5518, 5519, 5520, 5550, 5551, 5555, 5556, 5578, 5589, 5684, 5695, 5696, 5717, 5745, 5761, 5769, 5818, 5824, 5831, 5857, 5868, 5869, 5895, 5915, 5930, 5931, 5932, 5938, 5962, 6005, 6006, 6046, 6062, 6070, 6075, 6076, 6141, 6142, 6143, 6144, 6149, 6150, 6151, 6152, 6153, 6159, 6174, 6180, 6185, 6195, 6196, 6197, 6203, 6204, 6217, 6218, 6226, 6227, 6256, 6257, 6258, 6259, 6285, 6286, 6287, 6288, 6300, 6305, 6306, 6319, 6320, 6323, 6331, 6339, 6361, 6368, 6451, 6457, 6458, 6459, 6460, 6461, 6462, 6463, 6464, 6489, 6490, 6499, 6504, 6515, 6524, 6563, 6596, 6613, 6614, 6615, 6616, 6664, 6665, 6666, 6667, 6676, 6677, 6730, 6731, 6744, 6785, 6869, 6879, 6915, 6944, 6951, 6964, 6965, 7003, 7025, 7036, 7063, 7068, 7074, 7075, 7085, 7088, 7089, 7152, 7153, 7166, 7263, 7272, 7286, 7287, 7302, 7306, 7324, 7335, 7336, 7339, 7340, 7341, 7342, 7343, 7344, 7345, 7346, 7352, 7353, 7354, 7355, 7356, 7357, 7359, 7360, 7361, 7370, 7371, 7372, 7375, 7379, 7386, 7409, 7415, 7416, 7468, 7469, 7484, 7485, 7522, 7523, 7524, 7525, 7528, 7529, 7536, 7547, 7548, 7549, 7562, 7563, 7564, 7567, 7569, 7582, 7632, 7633, 7675, 7676, 7677, 7678, 7679, 7706, 7711, 7712, 7720, 7721, 7733, 7752, 7753, 7797, 7826, 7848, 7896, 7897, 7898, 7899, 7914, 7915, 7956, 7962, 7963, 7964, 7965, 7966, 7967, 7968, 7973, 7974, 8018, 8074, 8075, 8087, 8088, 8089, 8090, 8108, 8112, 8119, 8151, 8152, 8153, 8154, 8155, 8202, 8237, 8286, 8287, 8288, 8289, 8292, 8293, 8315, 8316, 8317, 8329, 8355, 8370, 8394, 8407, 8426, 8427, 8453, 8462, 8471, 8479, 8539, 8540, 8563, 8600, 8633, 8634, 8635, 8667, 8718, 8768, 8774, 8779, 8780, 8785, 8786, 8796, 8797, 8813, 8837, 8855, 8856, 8882, 8883, 8884, 9029, 9030, 9074, 9126, 9127, 9134, 9177, 9178, 9181, 9182, 9202, 9207, 9222, 9310, 9315, 9324, 9342, 9361, 9422, 9453, 9454, 9477, 9507, 9514, 9515, 9516, 9517, 9597, 9621, 9687, 9688, 9693, 9701, 9703])\n",
      "((2, 1), [2, 34, 35, 37, 38, 43, 49, 56, 59, 63, 74, 82, 96, 112, 113, 157, 163, 164, 165, 172, 173, 178, 187, 188, 189, 228, 239, 240, 241, 242, 243, 245, 252, 253, 256, 257, 260, 266, 278, 299, 315, 327, 328, 359, 376, 384, 385, 397, 419, 432, 433, 438, 439, 440, 441, 460, 464, 465, 466, 467, 472, 475, 476, 496, 498, 504, 513, 540, 572, 584, 588, 615, 616, 655, 661, 662, 663, 712, 715, 716, 718, 720, 742, 745, 746, 748, 755, 757, 765, 769, 773, 774, 779, 787, 831, 841, 859, 874, 875, 876, 877, 878, 906, 907, 908, 917, 949, 950, 958, 968, 978, 980, 1004, 1005, 1034, 1035, 1036, 1041, 1044, 1064, 1065, 1104, 1125, 1126, 1162, 1168, 1192, 1222, 1223, 1224, 1225, 1230, 1232, 1239, 1240, 1243, 1255, 1264, 1294, 1301, 1323, 1339, 1341, 1353, 1361, 1373, 1374, 1431, 1435, 1446, 1447, 1450, 1451, 1455, 1456, 1457, 1459, 1467, 1471, 1473, 1474, 1480, 1506, 1515, 1516, 1521, 1522, 1523, 1524, 1526, 1565, 1566, 1567, 1626, 1627, 1628, 1639, 1663, 1675, 1698, 1699, 1700, 1701, 1707, 1715, 1730, 1731, 1734, 1743, 1764, 1776, 1798, 1831, 1832, 1856, 1859, 1862, 1875, 1883, 1890, 1896, 1897, 1898, 1905, 1906, 1918, 1919, 1920, 1990, 2004, 2005, 2006, 2022, 2026, 2043, 2046, 2047, 2051, 2052, 2057, 2064, 2065, 2066, 2067, 2071, 2072, 2073, 2082, 2083, 2092, 2101, 2102, 2107, 2108, 2110, 2117, 2118, 2119, 2129, 2159, 2160, 2171, 2172, 2176, 2177, 2244, 2247, 2256, 2281, 2286, 2296, 2301, 2302, 2313, 2317, 2318, 2349, 2350, 2351, 2362, 2374, 2375, 2390, 2396, 2405, 2406, 2423, 2426, 2427, 2429, 2445, 2488, 2496, 2510, 2530, 2538, 2539, 2560, 2575, 2576, 2608, 2610, 2649, 2653, 2689, 2701, 2716, 2717, 2718, 2723, 2744, 2745, 2840, 2844, 2863, 2864, 2865, 2867, 2868, 2869, 2883, 2884, 2892, 2913, 2935, 2950, 2951, 2959, 2979, 2993, 2994, 2995, 2999, 3000, 3003, 3005, 3006, 3010, 3015, 3035, 3036, 3037, 3038, 3039, 3040, 3047, 3049, 3053, 3064, 3065, 3076, 3083, 3084, 3088, 3089, 3090, 3096, 3109, 3116, 3131, 3132, 3133, 3189, 3190, 3195, 3200, 3201, 3213, 3218, 3230, 3231, 3232, 3233, 3271, 3275, 3276, 3299, 3305, 3324, 3325, 3346, 3352, 3366, 3374, 3386, 3393, 3401, 3405, 3411, 3414, 3421, 3424, 3437, 3438, 3439, 3469, 3479, 3482, 3494, 3500, 3530, 3531, 3534, 3543, 3544, 3545, 3547, 3562, 3567, 3568, 3581, 3583, 3584, 3585, 3629, 3636, 3637, 3640, 3643, 3644, 3673, 3682, 3688, 3700, 3701, 3726, 3744, 3753, 3764, 3767, 3790, 3816, 3829, 3843, 3844, 3847, 3852, 3853, 3854, 3861, 3885, 3886, 3887, 3888, 3889, 3900, 3901, 3902, 3905, 3934, 3935, 3936, 3955, 3985, 3993, 3999, 4015, 4054, 4085, 4097, 4101, 4114, 4125, 4148, 4153, 4154, 4215, 4218, 4226, 4227, 4240, 4243, 4267, 4272, 4273, 4288, 4304, 4307, 4308, 4315, 4322, 4325, 4334, 4337, 4355, 4363, 4364, 4365, 4366, 4379, 4398, 4406, 4407, 4423, 4448, 4461, 4480, 4489, 4490, 4491, 4493, 4544, 4567, 4608, 4622, 4626, 4632, 4633, 4673, 4674, 4675, 4685, 4691, 4692, 4702, 4703, 4707, 4766, 4767, 4794, 4797, 4807, 4819, 4821, 4831, 4850, 4851, 4852, 4861, 4863, 4886, 4896, 4897, 4899, 4900, 4929, 4937, 4961, 4964, 4977, 4978, 4981, 4982, 4983, 4984, 4985, 5015, 5068, 5076, 5077, 5084, 5085, 5098, 5099, 5113, 5114, 5118, 5145, 5174, 5175, 5176, 5177, 5178, 5188, 5189, 5190, 5191, 5192, 5193, 5194, 5215, 5255, 5261, 5262, 5296, 5311, 5312, 5341, 5353, 5354, 5356, 5360, 5399, 5400, 5405, 5406, 5409, 5411, 5415, 5443, 5486, 5491, 5534, 5547, 5554, 5557, 5563, 5565, 5579, 5590, 5598, 5599, 5612, 5613, 5614, 5617, 5618, 5627, 5637, 5643, 5685, 5694, 5697, 5718, 5739, 5741, 5744, 5749, 5768, 5797, 5806, 5812, 5813, 5814, 5825, 5826, 5827, 5832, 5853, 5858, 5860, 5861, 5866, 5876, 5929, 5933, 5934, 5943, 5956, 6063, 6064, 6069, 6071, 6077, 6105, 6123, 6130, 6138, 6139, 6145, 6146, 6175, 6186, 6205, 6209, 6222, 6223, 6224, 6228, 6229, 6248, 6249, 6260, 6289, 6296, 6307, 6315, 6332, 6364, 6365, 6369, 6408, 6409, 6410, 6442, 6447, 6448, 6449, 6450, 6500, 6505, 6525, 6526, 6527, 6528, 6529, 6564, 6593, 6594, 6597, 6598, 6599, 6617, 6631, 6643, 6644, 6663, 6674, 6697, 6698, 6699, 6700, 6751, 6752, 6756, 6758, 6759, 6760, 6765, 6766, 6784, 6797, 6825, 6826, 6861, 6870, 6883, 6891, 6894, 6895, 6916, 6917, 6931, 6936, 6966, 6989, 7010, 7019, 7020, 7021, 7026, 7030, 7031, 7055, 7067, 7069, 7073, 7076, 7086, 7101, 7106, 7116, 7160, 7167, 7205, 7206, 7223, 7249, 7264, 7288, 7295, 7299, 7300, 7301, 7303, 7304, 7305, 7307, 7329, 7347, 7348, 7362, 7374, 7376, 7387, 7397, 7406, 7407, 7408, 7444, 7445, 7446, 7450, 7451, 7452, 7462, 7463, 7464, 7470, 7486, 7507, 7513, 7514, 7515, 7516, 7517, 7518, 7519, 7535, 7537, 7568, 7580, 7583, 7606, 7611, 7667, 7668, 7693, 7713, 7714, 7715, 7716, 7722, 7723, 7727, 7734, 7740, 7781, 7798, 7840, 7881, 7920, 7921, 7922, 7927, 7943, 7944, 7969, 7971, 7972, 7975, 7988, 7991, 7992, 8019, 8049, 8050, 8062, 8076, 8091, 8093, 8107, 8113, 8123, 8156, 8160, 8203, 8206, 8213, 8229, 8290, 8296, 8300, 8337, 8343, 8356, 8383, 8395, 8396, 8441, 8443, 8444, 8445, 8446, 8447, 8452, 8454, 8460, 8461, 8472, 8473, 8493, 8494, 8532, 8541, 8550, 8555, 8556, 8559, 8564, 8601, 8636, 8637, 8679, 8719, 8761, 8769, 8770, 8775, 8784, 8795, 8798, 8805, 8819, 8821, 8838, 8851, 8857, 8885, 8892, 8900, 8901, 8930, 8931, 8955, 8956, 8999, 9000, 9031, 9041, 9048, 9098, 9099, 9114, 9128, 9129, 9135, 9183, 9199, 9203, 9205, 9206, 9209, 9223, 9225, 9226, 9247, 9248, 9311, 9312, 9316, 9317, 9318, 9350, 9359, 9360, 9362, 9370, 9423, 9424, 9441, 9442, 9446, 9460, 9466, 9512, 9513, 9531, 9550, 9567, 9568, 9622, 9623, 9655, 9685, 9686, 9702, 9717])\n",
      "((2, 2), [31, 32, 33, 36, 57, 58, 61, 78, 107, 109, 110, 111, 158, 159, 176, 181, 182, 183, 184, 202, 203, 204, 208, 209, 224, 226, 227, 232, 237, 238, 246, 247, 248, 254, 255, 261, 279, 280, 281, 311, 312, 313, 314, 329, 414, 418, 423, 436, 437, 461, 495, 522, 531, 554, 573, 604, 605, 606, 608, 609, 610, 611, 658, 659, 660, 664, 675, 682, 683, 684, 693, 733, 743, 818, 858, 959, 961, 962, 965, 966, 967, 972, 986, 992, 993, 994, 1011, 1042, 1043, 1095, 1102, 1106, 1109, 1110, 1124, 1127, 1169, 1172, 1176, 1179, 1190, 1219, 1220, 1228, 1229, 1251, 1256, 1265, 1291, 1314, 1315, 1316, 1321, 1344, 1345, 1346, 1434, 1444, 1445, 1448, 1449, 1470, 1472, 1490, 1504, 1540, 1573, 1582, 1583, 1617, 1618, 1620, 1621, 1629, 1632, 1640, 1641, 1654, 1676, 1693, 1740, 1765, 1773, 1774, 1775, 1815, 1817, 1818, 1821, 1822, 1827, 1829, 1830, 1835, 1857, 1858, 1871, 1876, 1877, 1891, 1895, 1904, 1932, 1944, 1950, 1951, 1953, 1956, 1957, 1959, 1961, 1973, 1981, 1982, 1983, 1985, 1986, 1987, 1988, 2001, 2002, 2003, 2007, 2011, 2012, 2023, 2053, 2077, 2078, 2079, 2080, 2081, 2093, 2094, 2103, 2106, 2111, 2127, 2128, 2150, 2151, 2167, 2168, 2174, 2175, 2206, 2210, 2211, 2245, 2246, 2271, 2285, 2290, 2291, 2292, 2293, 2294, 2299, 2300, 2348, 2359, 2401, 2402, 2403, 2404, 2424, 2425, 2446, 2511, 2512, 2534, 2535, 2537, 2540, 2611, 2612, 2626, 2632, 2670, 2702, 2707, 2715, 2766, 2802, 2833, 2834, 2837, 2847, 2861, 2862, 2866, 2870, 2885, 2903, 2904, 2905, 2906, 2938, 2939, 2970, 3017, 3018, 3043, 3071, 3072, 3091, 3095, 3117, 3118, 3137, 3158, 3188, 3192, 3211, 3212, 3221, 3222, 3237, 3239, 3240, 3274, 3279, 3294, 3308, 3317, 3335, 3338, 3367, 3404, 3406, 3415, 3440, 3463, 3464, 3476, 3496, 3497, 3498, 3499, 3503, 3512, 3518, 3527, 3528, 3529, 3532, 3536, 3548, 3549, 3554, 3610, 3613, 3618, 3651, 3652, 3653, 3654, 3674, 3689, 3693, 3704, 3709, 3710, 3711, 3717, 3752, 3774, 3791, 3835, 3848, 3849, 3850, 3851, 3855, 3856, 3870, 3871, 3890, 3897, 3898, 3927, 3952, 3961, 3964, 3978, 3988, 4007, 4024, 4025, 4026, 4027, 4043, 4055, 4078, 4086, 4130, 4149, 4155, 4175, 4176, 4177, 4178, 4182, 4201, 4210, 4233, 4234, 4235, 4236, 4241, 4242, 4260, 4261, 4262, 4263, 4265, 4266, 4277, 4301, 4302, 4303, 4323, 4324, 4335, 4336, 4342, 4449, 4450, 4451, 4452, 4462, 4539, 4543, 4582, 4587, 4604, 4605, 4607, 4617, 4627, 4628, 4629, 4665, 4666, 4676, 4677, 4687, 4706, 4730, 4731, 4732, 4760, 4761, 4765, 4769, 4778, 4792, 4793, 4798, 4799, 4800, 4840, 4856, 4857, 4858, 4870, 4892, 4895, 4898, 4901, 4938, 4942, 4965, 4973, 5000, 5001, 5007, 5024, 5025, 5026, 5027, 5034, 5035, 5036, 5069, 5070, 5071, 5078, 5079, 5080, 5083, 5090, 5100, 5102, 5105, 5110, 5111, 5130, 5132, 5133, 5134, 5142, 5143, 5144, 5186, 5187, 5195, 5216, 5217, 5230, 5239, 5240, 5241, 5267, 5276, 5277, 5278, 5286, 5287, 5297, 5302, 5342, 5387, 5391, 5395, 5396, 5397, 5416, 5432, 5433, 5434, 5438, 5445, 5448, 5487, 5492, 5493, 5498, 5517, 5526, 5527, 5535, 5536, 5541, 5559, 5560, 5561, 5562, 5570, 5591, 5592, 5601, 5602, 5606, 5608, 5609, 5610, 5611, 5619, 5621, 5622, 5625, 5634, 5638, 5650, 5651, 5663, 5664, 5693, 5698, 5727, 5728, 5737, 5738, 5742, 5743, 5748, 5762, 5763, 5764, 5765, 5772, 5790, 5844, 5847, 5848, 5859, 5872, 5882, 5885, 5896, 5906, 5907, 5908, 5910, 5920, 5928, 5944, 5955, 5963, 5964, 6026, 6033, 6065, 6068, 6096, 6124, 6131, 6187, 6206, 6207, 6208, 6261, 6265, 6266, 6274, 6280, 6281, 6282, 6283, 6284, 6301, 6314, 6316, 6350, 6363, 6382, 6383, 6387, 6390, 6391, 6399, 6401, 6406, 6407, 6419, 6424, 6467, 6509, 6510, 6544, 6577, 6603, 6604, 6606, 6607, 6608, 6609, 6610, 6632, 6645, 6662, 6696, 6701, 6704, 6705, 6706, 6707, 6708, 6750, 6753, 6754, 6757, 6773, 6774, 6777, 6804, 6812, 6813, 6831, 6835, 6838, 6852, 6853, 6880, 6882, 6893, 6896, 6929, 6937, 6981, 6986, 6990, 6991, 6992, 7011, 7012, 7013, 7014, 7015, 7018, 7028, 7029, 7046, 7066, 7070, 7090, 7102, 7107, 7108, 7115, 7117, 7133, 7134, 7156, 7185, 7186, 7187, 7192, 7193, 7224, 7225, 7240, 7248, 7278, 7296, 7308, 7309, 7363, 7373, 7405, 7426, 7435, 7453, 7456, 7465, 7466, 7477, 7498, 7512, 7533, 7534, 7538, 7552, 7553, 7576, 7581, 7584, 7610, 7643, 7665, 7666, 7694, 7695, 7726, 7746, 7761, 7762, 7776, 7786, 7787, 7813, 7820, 7822, 7823, 7824, 7827, 7849, 7884, 7885, 7886, 7887, 7919, 7926, 7982, 7983, 7987, 7990, 7994, 7995, 8027, 8031, 8045, 8048, 8060, 8061, 8100, 8101, 8102, 8114, 8115, 8120, 8121, 8122, 8138, 8142, 8150, 8161, 8204, 8205, 8217, 8218, 8222, 8233, 8234, 8238, 8250, 8256, 8257, 8258, 8263, 8266, 8271, 8274, 8278, 8294, 8308, 8309, 8310, 8311, 8312, 8313, 8333, 8334, 8335, 8336, 8350, 8353, 8354, 8360, 8377, 8405, 8408, 8409, 8451, 8455, 8459, 8465, 8466, 8467, 8468, 8474, 8480, 8481, 8492, 8503, 8513, 8523, 8530, 8548, 8557, 8558, 8560, 8565, 8569, 8572, 8578, 8596, 8608, 8654, 8655, 8675, 8681, 8709, 8729, 8760, 8776, 8793, 8794, 8799, 8800, 8801, 8814, 8815, 8822, 8852, 8862, 8870, 8871, 8891, 8893, 8894, 8895, 8896, 8897, 8899, 8949, 8959, 8960, 8961, 8966, 8978, 8979, 8985, 9008, 9034, 9062, 9070, 9071, 9072, 9073, 9075, 9192, 9224, 9238, 9242, 9243, 9244, 9249, 9250, 9257, 9268, 9273, 9274, 9277, 9280, 9305, 9325, 9333, 9335, 9339, 9344, 9345, 9358, 9363, 9369, 9371, 9372, 9415, 9416, 9418, 9419, 9436, 9440, 9443, 9444, 9447, 9461, 9465, 9467, 9472, 9480, 9508, 9518, 9551, 9552, 9563, 9564, 9565, 9566, 9572, 9577, 9578, 9579, 9672, 9677, 9678, 9681, 9682, 9683, 9684])\n",
      "((2, 3), [108, 216, 233, 234, 235, 249, 262, 274, 287, 288, 289, 290, 339, 340, 348, 349, 350, 415, 416, 417, 435, 523, 524, 525, 530, 543, 544, 545, 546, 547, 555, 574, 595, 598, 599, 600, 601, 607, 694, 706, 707, 708, 734, 890, 909, 910, 911, 912, 960, 973, 974, 975, 976, 987, 988, 995, 1012, 1107, 1108, 1111, 1112, 1117, 1122, 1123, 1148, 1158, 1177, 1178, 1193, 1211, 1266, 1267, 1275, 1282, 1285, 1317, 1318, 1319, 1320, 1324, 1384, 1388, 1432, 1468, 1469, 1475, 1483, 1541, 1542, 1543, 1546, 1547, 1551, 1584, 1630, 1631, 1642, 1644, 1655, 1656, 1677, 1678, 1685, 1739, 1744, 1766, 1767, 1768, 1814, 1819, 1820, 1828, 1837, 1838, 1839, 1846, 1864, 1865, 1878, 1879, 1945, 1947, 1948, 1952, 1960, 1974, 1984, 2027, 2104, 2105, 2112, 2161, 2162, 2163, 2164, 2203, 2225, 2228, 2229, 2230, 2231, 2232, 2237, 2238, 2239, 2257, 2258, 2259, 2260, 2261, 2268, 2337, 2338, 2363, 2364, 2365, 2366, 2391, 2481, 2484, 2489, 2490, 2491, 2492, 2493, 2513, 2515, 2516, 2517, 2518, 2519, 2531, 2536, 2541, 2544, 2613, 2614, 2615, 2627, 2628, 2629, 2631, 2644, 2645, 2650, 2654, 2655, 2671, 2676, 2679, 2680, 2683, 2708, 2709, 2714, 2767, 2768, 2769, 2770, 2771, 2803, 2804, 2835, 2836, 2846, 2857, 2893, 2915, 2919, 2947, 3022, 3023, 3024, 3058, 3059, 3060, 3062, 3063, 3077, 3092, 3093, 3094, 3156, 3193, 3194, 3198, 3199, 3242, 3243, 3280, 3293, 3309, 3310, 3312, 3319, 3336, 3337, 3353, 3354, 3355, 3375, 3402, 3403, 3425, 3426, 3427, 3428, 3450, 3451, 3452, 3453, 3454, 3477, 3478, 3495, 3504, 3513, 3514, 3515, 3516, 3517, 3611, 3612, 3619, 3658, 3697, 3699, 3712, 3718, 3799, 3836, 3872, 3873, 3928, 3929, 3956, 3962, 3963, 3979, 4006, 4019, 4047, 4048, 4056, 4087, 4088, 4089, 4102, 4103, 4150, 4164, 4165, 4166, 4172, 4173, 4183, 4184, 4190, 4191, 4192, 4202, 4211, 4214, 4228, 4278, 4279, 4284, 4285, 4343, 4380, 4453, 4497, 4538, 4542, 4549, 4550, 4551, 4552, 4553, 4554, 4555, 4568, 4569, 4585, 4600, 4601, 4602, 4603, 4606, 4613, 4614, 4615, 4616, 4667, 4688, 4700, 4701, 4710, 4711, 4724, 4736, 4762, 4763, 4764, 4770, 4771, 4777, 4784, 4801, 4804, 4808, 4810, 4811, 4815, 4816, 4832, 4833, 4834, 4835, 4859, 4860, 4872, 4878, 4879, 4880, 4882, 4893, 4894, 4902, 4903, 4904, 4915, 4916, 4966, 4967, 4968, 4969, 5006, 5028, 5029, 5041, 5081, 5082, 5101, 5103, 5104, 5112, 5131, 5150, 5151, 5157, 5158, 5161, 5203, 5218, 5223, 5224, 5225, 5226, 5227, 5228, 5236, 5237, 5238, 5242, 5243, 5268, 5288, 5289, 5290, 5294, 5295, 5298, 5299, 5300, 5301, 5303, 5308, 5385, 5388, 5393, 5394, 5417, 5421, 5446, 5447, 5452, 5467, 5476, 5477, 5482, 5485, 5494, 5516, 5553, 5571, 5572, 5573, 5607, 5620, 5686, 5699, 5735, 5736, 5747, 5766, 5784, 5785, 5786, 5808, 5809, 5810, 5845, 5849, 5851, 5877, 5886, 5887, 5905, 5909, 5912, 5919, 5921, 5945, 5965, 5966, 5967, 5974, 5975, 5993, 5994, 5995, 6029, 6030, 6032, 6034, 6035, 6036, 6066, 6067, 6078, 6079, 6097, 6098, 6099, 6100, 6101, 6106, 6114, 6115, 6116, 6117, 6188, 6189, 6262, 6263, 6264, 6302, 6303, 6312, 6313, 6351, 6374, 6375, 6388, 6389, 6412, 6425, 6428, 6468, 6481, 6482, 6483, 6511, 6530, 6539, 6540, 6541, 6542, 6545, 6546, 6570, 6578, 6584, 6585, 6587, 6605, 6633, 6634, 6635, 6638, 6686, 6687, 6702, 6713, 6714, 6746, 6747, 6748, 6749, 6779, 6780, 6783, 6814, 6832, 6836, 6872, 6881, 6892, 6904, 6960, 6979, 6980, 6982, 6983, 6984, 6993, 6994, 6995, 6996, 7016, 7017, 7053, 7071, 7072, 7079, 7091, 7109, 7110, 7118, 7126, 7127, 7131, 7135, 7194, 7195, 7217, 7239, 7241, 7242, 7243, 7247, 7283, 7284, 7310, 7311, 7364, 7398, 7399, 7400, 7404, 7427, 7433, 7434, 7454, 7455, 7478, 7479, 7482, 7487, 7499, 7554, 7555, 7575, 7585, 7601, 7602, 7603, 7613, 7614, 7615, 7663, 7664, 7696, 7747, 7755, 7763, 7764, 7769, 7770, 7771, 7777, 7778, 7779, 7788, 7789, 7799, 7821, 7853, 7854, 7882, 7883, 7892, 7893, 7917, 7918, 7925, 7980, 7981, 7984, 7985, 7986, 7996, 7997, 8002, 8010, 8032, 8034, 8035, 8046, 8051, 8052, 8094, 8116, 8139, 8140, 8143, 8144, 8145, 8162, 8172, 8173, 8174, 8192, 8220, 8221, 8223, 8224, 8232, 8235, 8239, 8240, 8247, 8251, 8252, 8264, 8265, 8267, 8279, 8295, 8339, 8378, 8379, 8380, 8410, 8414, 8415, 8484, 8485, 8489, 8490, 8491, 8495, 8514, 8519, 8520, 8521, 8522, 8524, 8527, 8528, 8544, 8551, 8568, 8573, 8575, 8579, 8580, 8584, 8585, 8588, 8602, 8603, 8609, 8615, 8618, 8638, 8646, 8647, 8653, 8656, 8657, 8665, 8682, 8683, 8684, 8704, 8710, 8720, 8730, 8731, 8732, 8733, 8745, 8757, 8758, 8759, 8762, 8853, 8860, 8861, 8866, 8867, 8890, 8918, 8919, 8922, 8932, 8933, 8934, 8935, 8936, 8937, 8944, 8945, 8948, 8950, 8951, 8952, 8953, 8964, 8965, 8980, 8989, 8990, 9009, 9010, 9035, 9036, 9063, 9064, 9068, 9076, 9078, 9079, 9082, 9102, 9103, 9104, 9108, 9151, 9152, 9168, 9169, 9170, 9193, 9195, 9196, 9197, 9212, 9213, 9239, 9240, 9241, 9245, 9246, 9258, 9259, 9260, 9261, 9262, 9269, 9272, 9283, 9287, 9306, 9326, 9353, 9354, 9355, 9356, 9357, 9411, 9412, 9413, 9417, 9448, 9462, 9463, 9464, 9473, 9496, 9497, 9500, 9501, 9502, 9526, 9527, 9543, 9553, 9562, 9571, 9573, 9580, 9581, 9582, 9670, 9671, 9676, 9706, 9710, 9711, 9718, 9719, 9720, 9721])\n"
     ]
    }
   ],
   "source": [
    "for node in sorted(winmap_ERA5.items()):\n",
    "    print(str(node))"
   ]
  },
  {
   "cell_type": "code",
   "execution_count": 106,
   "metadata": {},
   "outputs": [
    {
     "data": {
      "text/plain": [
       "'d'"
      ]
     },
     "execution_count": 106,
     "metadata": {},
     "output_type": "execute_result"
    }
   ],
   "source": [
    "str(winmap_ERA5)"
   ]
  },
  {
   "cell_type": "code",
   "execution_count": 112,
   "metadata": {},
   "outputs": [],
   "source": [
    "test_str = 'hello'"
   ]
  },
  {
   "cell_type": "code",
   "execution_count": 114,
   "metadata": {},
   "outputs": [
    {
     "data": {
      "text/plain": [
       "'ell'"
      ]
     },
     "execution_count": 114,
     "metadata": {},
     "output_type": "execute_result"
    }
   ],
   "source": [
    "test_str[1:-1]"
   ]
  },
  {
   "cell_type": "code",
   "execution_count": 98,
   "metadata": {},
   "outputs": [],
   "source": [
    "# winmap_MERRA2"
   ]
  },
  {
   "cell_type": "code",
   "execution_count": 99,
   "metadata": {},
   "outputs": [],
   "source": [
    "# winmap_NARR"
   ]
  }
 ],
 "metadata": {
  "kernelspec": {
   "display_name": "Python 3",
   "language": "python",
   "name": "python3"
  },
  "language_info": {
   "codemirror_mode": {
    "name": "ipython",
    "version": 3
   },
   "file_extension": ".py",
   "mimetype": "text/x-python",
   "name": "python",
   "nbconvert_exporter": "python",
   "pygments_lexer": "ipython3",
   "version": "3.7.4"
  }
 },
 "nbformat": 4,
 "nbformat_minor": 4
}
