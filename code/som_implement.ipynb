{
 "cells": [
  {
   "cell_type": "code",
   "execution_count": 1,
   "metadata": {},
   "outputs": [],
   "source": [
    "from minisom import MiniSom\n",
    "import pandas as pd\n",
    "import numpy as np\n",
    "from collections import defaultdict\n",
    "import pickle\n",
    "import matplotlib.pyplot as plt\n",
    "from numpy import random, linalg, zeros\n",
    "%matplotlib inline"
   ]
  },
  {
   "cell_type": "code",
   "execution_count": 2,
   "metadata": {},
   "outputs": [],
   "source": [
    "data_path = '/net/fs04/d2/xgao/SOM'"
   ]
  },
  {
   "cell_type": "code",
   "execution_count": 3,
   "metadata": {},
   "outputs": [],
   "source": [
    "def get_var(var, prod):\n",
    "    df = pd.read_csv(data_path+'/'+prod+'/'+prod+'_daily_8019_SCUS_JFMAMOND_'+var+'_anom.txt', header = None, delim_whitespace=True)\n",
    "    return df"
   ]
  },
  {
   "cell_type": "code",
   "execution_count": 4,
   "metadata": {},
   "outputs": [],
   "source": [
    "def concat_df(df_list):\n",
    "    comb_df = pd.concat(df_list, axis = 1)\n",
    "    comb = comb_df.values\n",
    "    return comb"
   ]
  },
  {
   "cell_type": "code",
   "execution_count": 5,
   "metadata": {},
   "outputs": [],
   "source": [
    "ivt_ERA5_df = get_var('ivt','ERA5')\n",
    "\n",
    "ERA5 = concat_df([ivt_ERA5_df])\n",
    "data_ERA5 = np.copy(ERA5)\n",
    "np.random.seed(10)\n",
    "np.random.shuffle(data_ERA5)"
   ]
  },
  {
   "cell_type": "code",
   "execution_count": 7,
   "metadata": {},
   "outputs": [],
   "source": [
    "som_shape = (3,4)"
   ]
  },
  {
   "cell_type": "code",
   "execution_count": 69,
   "metadata": {},
   "outputs": [],
   "source": [
    "def asymptotic_decay(learning_rate, t, max_iter):\n",
    "    return learning_rate / (1+t/(max_iter/2))"
   ]
  },
  {
   "cell_type": "code",
   "execution_count": 70,
   "metadata": {},
   "outputs": [],
   "source": [
    "x = som_shape[0]\n",
    "y = som_shape[1]\n",
    "input_len = data_ERA5.shape[1]\n",
    "sigma=.5 \n",
    "learning_rate=.5,\n",
    "neighborhood_function='gaussian'\n",
    "decay_function=asymptotic_decay\n",
    "topology='rectangular'\n",
    "random_seed=10"
   ]
  },
  {
   "cell_type": "code",
   "execution_count": 18,
   "metadata": {},
   "outputs": [],
   "source": [
    "random_generator = random.RandomState(random_seed)"
   ]
  },
  {
   "cell_type": "code",
   "execution_count": 28,
   "metadata": {},
   "outputs": [],
   "source": [
    "weights = random_generatbor.rand(x,y,input_len)*2-1"
   ]
  },
  {
   "cell_type": "code",
   "execution_count": 38,
   "metadata": {},
   "outputs": [
    {
     "data": {
      "text/plain": [
       "array([[[-0.01240821, -0.21754475, -0.97569451, ...,  0.36458101,\n",
       "          0.67858748,  0.05261419],\n",
       "        [-0.87612129, -0.15999964, -0.21220421, ...,  0.59052287,\n",
       "          0.21989655, -0.58366928],\n",
       "        [ 0.80579964,  0.13669339, -0.18203949, ..., -0.68853689,\n",
       "         -0.85043521,  0.57380554],\n",
       "        [ 0.44614736, -0.22555007, -0.28550998, ..., -0.7540515 ,\n",
       "         -0.50183637,  0.85676191]],\n",
       "\n",
       "       [[-0.48938953, -0.32021795, -0.8672862 , ...,  0.42305353,\n",
       "         -0.40977652,  0.79456638],\n",
       "        [-0.99719052, -0.05087864,  0.05234299, ...,  0.77472943,\n",
       "         -0.70009058, -0.62287096],\n",
       "        [ 0.5759829 ,  0.67485218, -0.98624223, ..., -0.00311683,\n",
       "          0.91524281,  0.26739541],\n",
       "        [-0.76781816,  0.0662216 ,  0.95945939, ..., -0.03689144,\n",
       "         -0.31734545,  0.51232667]],\n",
       "\n",
       "       [[ 0.00771998, -0.85872257,  0.23379506, ...,  0.71080142,\n",
       "         -0.13494512,  0.21944954],\n",
       "        [-0.44935988, -0.56746644,  0.53208634, ..., -0.95957267,\n",
       "          0.46517011,  0.08023165],\n",
       "        [ 0.53078751,  0.79345479,  0.98746639, ..., -0.24244187,\n",
       "         -0.66694691,  0.92332499],\n",
       "        [-0.52959221,  0.41012825,  0.00563916, ..., -0.54201472,\n",
       "          0.98044404,  0.99574226]]])"
      ]
     },
     "execution_count": 38,
     "metadata": {},
     "output_type": "execute_result"
    }
   ],
   "source": [
    "weights "
   ]
  },
  {
   "cell_type": "code",
   "execution_count": 40,
   "metadata": {},
   "outputs": [],
   "source": [
    "weights /= linalg.norm(weights, axis = -1, keepdims = True)"
   ]
  },
  {
   "cell_type": "code",
   "execution_count": 47,
   "metadata": {},
   "outputs": [],
   "source": [
    "activation_map = zeros((x,y))"
   ]
  },
  {
   "cell_type": "code",
   "execution_count": 53,
   "metadata": {},
   "outputs": [],
   "source": [
    "neigx = np.arange(x)\n",
    "neigy = np.arange(y)"
   ]
  },
  {
   "cell_type": "code",
   "execution_count": 55,
   "metadata": {},
   "outputs": [],
   "source": [
    "xx, yy = np.meshgrid(neigx, neigy)"
   ]
  },
  {
   "cell_type": "code",
   "execution_count": 59,
   "metadata": {},
   "outputs": [
    {
     "data": {
      "text/plain": [
       "(array([[0, 1, 2],\n",
       "        [0, 1, 2],\n",
       "        [0, 1, 2],\n",
       "        [0, 1, 2]]),\n",
       " array([[0, 0, 0],\n",
       "        [1, 1, 1],\n",
       "        [2, 2, 2],\n",
       "        [3, 3, 3]]))"
      ]
     },
     "execution_count": 59,
     "metadata": {},
     "output_type": "execute_result"
    }
   ],
   "source": [
    "xx,yy"
   ]
  },
  {
   "cell_type": "code",
   "execution_count": 67,
   "metadata": {},
   "outputs": [],
   "source": [
    "xx = xx.astype(float)\n",
    "yy = yy.astype(float)"
   ]
  },
  {
   "cell_type": "code",
   "execution_count": 62,
   "metadata": {},
   "outputs": [
    {
     "data": {
      "text/plain": [
       "array([0, 1, 2, 3])"
      ]
     },
     "execution_count": 62,
     "metadata": {},
     "output_type": "execute_result"
    }
   ],
   "source": [
    "neigy"
   ]
  },
  {
   "cell_type": "code",
   "execution_count": 6,
   "metadata": {},
   "outputs": [],
   "source": [
    "num_iterations = 5000\n",
    "data_len = 2009"
   ]
  },
  {
   "cell_type": "code",
   "execution_count": 8,
   "metadata": {},
   "outputs": [
    {
     "data": {
      "text/plain": [
       "array([  0,   1,   2, ..., 979, 980, 981])"
      ]
     },
     "execution_count": 8,
     "metadata": {},
     "output_type": "execute_result"
    }
   ],
   "source": [
    "np.arange(5000)%2009"
   ]
  },
  {
   "cell_type": "code",
   "execution_count": null,
   "metadata": {},
   "outputs": [],
   "source": []
  }
 ],
 "metadata": {
  "kernelspec": {
   "display_name": "Python 3",
   "language": "python",
   "name": "python3"
  },
  "language_info": {
   "codemirror_mode": {
    "name": "ipython",
    "version": 3
   },
   "file_extension": ".py",
   "mimetype": "text/x-python",
   "name": "python",
   "nbconvert_exporter": "python",
   "pygments_lexer": "ipython3",
   "version": "3.7.4"
  }
 },
 "nbformat": 4,
 "nbformat_minor": 4
}
